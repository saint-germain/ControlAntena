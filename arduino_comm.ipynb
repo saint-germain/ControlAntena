{
 "cells": [
  {
   "cell_type": "code",
   "execution_count": 17,
   "metadata": {
    "collapsed": true
   },
   "outputs": [],
   "source": [
    "import serial\n",
    "from time import sleep\n",
    "import numpy as np\n",
    "from astropy import units as u\n",
    "from astropy.time import Time\n",
    "from astropy.coordinates import SkyCoord, EarthLocation, AltAz"
   ]
  },
  {
   "cell_type": "code",
   "execution_count": 18,
   "metadata": {
    "collapsed": true
   },
   "outputs": [],
   "source": [
    "def a2s(arr):\n",
    "    \"\"\" Array of integer byte values --> binary string\n",
    "    \"\"\"\n",
    "    return ''.join(chr(b) for b in arr)"
   ]
  },
  {
   "cell_type": "code",
   "execution_count": 19,
   "metadata": {
    "collapsed": false
   },
   "outputs": [],
   "source": [
    "def commarduino(azim,elev):\n",
    "    # this azim must be already elevation offset-corrected\n",
    "    try:\n",
    "        ser = serial.Serial('/dev/ttyACM0', 9600) # Establish the connection on a specific port\n",
    "    except:\n",
    "        ser = serial.Serial('/dev/ttyACM1', 9600) # Establish the connection on a specific port\n",
    "    azbin=bin(azim*10) # arduino serial receives a 16 bit int, so we have 1 decimal precision if multiplied by 10\n",
    "    azpadn=16-len(azbin[2:])\n",
    "    azbin='0b'+azpadn*'0'+azbin[2:]\n",
    "    altbin=bin(elev*10) # arduino serial receives a 16 bit int, so we have 1 decimal precision if multiplied by 10\n",
    "    altpadn=16-len(altbin[2:])\n",
    "    altbin='0b'+altpadn*'0'+altbin[2:]\n",
    "    # split each coordinate's 16 bit int into two 8 bit ints\n",
    "    # is reconstituted in the arduino\n",
    "    ser.write(a2s([int(azbin[2:-8],2),int(azbin[-8:],2),int(altbin[2:-8],2),int(altbin[-8:],2)]))\n",
    "    ser.close()"
   ]
  },
  {
   "cell_type": "code",
   "execution_count": 20,
   "metadata": {
    "collapsed": true
   },
   "outputs": [],
   "source": [
    "# azimuth correction due to pitch offset\n",
    "def az_corr(eloff,el):\n",
    "    el=el*np.pi/180\n",
    "    eloff=eloff*np.pi/180\n",
    "    omega=np.arcsin(np.sin(el)/np.cos(eloff))\n",
    "    return -np.arctan2(np.cos(omega),np.sin(omega)*np.sin(eloff))*180/np.pi"
   ]
  },
  {
   "cell_type": "code",
   "execution_count": 21,
   "metadata": {
    "collapsed": true
   },
   "outputs": [],
   "source": [
    "eloff=4 ## offset, should be measured via pitch"
   ]
  },
  {
   "cell_type": "code",
   "execution_count": 22,
   "metadata": {
    "collapsed": false
   },
   "outputs": [],
   "source": [
    "# this block sets the availability of az for each el\n",
    "azlimlo=360 # this should me measured (max az range for the antenna mount)\n",
    "azlimup=180 # this should me measured (min az range for the antenna mount)\n",
    "el=np.linspace(0,90-eloff,90-eloff+1)*np.pi/180\n",
    "omega=np.arcsin(np.sin(el)/np.cos(eloff*np.pi/180))\n",
    "azcor=-np.arctan2(np.cos(omega),np.sin(omega)*np.sin(eloff*np.pi/180))*180/np.pi\n",
    "lowerang=azlimlo-azcor-360\n",
    "upperang=azlimup-azcor"
   ]
  },
  {
   "cell_type": "code",
   "execution_count": 25,
   "metadata": {
    "collapsed": false,
    "scrolled": false
   },
   "outputs": [
    {
     "name": "stdout",
     "output_type": "stream",
     "text": [
      "****************************\n",
      "New coordinates from script:\n",
      "****************************\n",
      "2016-11-10 17:00:16.194570  Azimuth =  227 Elevation =  38\n",
      "Setting the telescope to Az = 227 and El = 38\n",
      "Corrected azimuth =  314\n",
      " \n",
      "****************************\n",
      "New coordinates from script:\n",
      "****************************\n",
      "2016-11-10 17:00:26.229974  Azimuth =  227 Elevation =  38\n",
      "Setting the telescope to Az = 227 and El = 38\n",
      "Corrected azimuth =  314\n",
      " \n",
      "****************************\n",
      "New coordinates from script:\n",
      "****************************\n",
      "2016-11-10 17:00:36.313528  Azimuth =  227 Elevation =  38\n",
      "Setting the telescope to Az = 227 and El = 38\n",
      "Corrected azimuth =  314\n",
      " \n",
      "****************************\n",
      "New coordinates from script:\n",
      "****************************\n",
      "2016-11-10 17:00:46.353301  Azimuth =  227 Elevation =  37\n",
      "Setting the telescope to Az = 227 and El = 37\n",
      "Corrected azimuth =  314\n",
      " \n",
      "****************************\n",
      "New coordinates from script:\n",
      "****************************\n",
      "2016-11-10 17:00:56.433531  Azimuth =  227 Elevation =  37\n",
      "Setting the telescope to Az = 227 and El = 37\n",
      "Corrected azimuth =  314\n",
      " \n",
      "****************************\n",
      "New coordinates from script:\n",
      "****************************\n",
      "2016-11-10 17:01:06.477920  Azimuth =  227 Elevation =  37\n",
      "Setting the telescope to Az = 227 and El = 37\n",
      "Corrected azimuth =  314\n",
      " \n",
      "****************************\n",
      "New coordinates from script:\n",
      "****************************\n",
      "2016-11-10 17:01:16.512368  Azimuth =  228 Elevation =  37\n",
      "Setting the telescope to Az = 228 and El = 37\n",
      "Corrected azimuth =  315\n",
      " \n",
      "****************************\n",
      "New coordinates from script:\n",
      "****************************\n",
      "2016-11-10 17:01:26.546733  Azimuth =  228 Elevation =  37\n",
      "Setting the telescope to Az = 228 and El = 37\n",
      "Corrected azimuth =  315\n",
      " \n",
      "****************************\n",
      "New coordinates from script:\n",
      "****************************\n",
      "2016-11-10 17:01:36.580970  Azimuth =  228 Elevation =  37\n",
      "Setting the telescope to Az = 228 and El = 37\n",
      "Corrected azimuth =  315\n",
      " \n",
      "****************************\n",
      "New coordinates from script:\n",
      "****************************\n",
      "2016-11-10 17:01:46.624148  Azimuth =  228 Elevation =  37\n",
      "Setting the telescope to Az = 228 and El = 37\n",
      "Corrected azimuth =  315\n",
      " \n",
      "****************************\n",
      "New coordinates from script:\n",
      "****************************\n",
      "2016-11-10 17:01:56.712989  Azimuth =  228 Elevation =  37\n",
      "Setting the telescope to Az = 228 and El = 37\n",
      "Corrected azimuth =  315\n",
      " \n",
      "****************************\n",
      "New coordinates from script:\n",
      "****************************\n",
      "2016-11-10 17:02:06.763158  Azimuth =  228 Elevation =  37\n",
      "Setting the telescope to Az = 228 and El = 37\n",
      "Corrected azimuth =  315\n",
      " \n",
      "****************************\n",
      "New coordinates from script:\n",
      "****************************\n",
      "2016-11-10 17:02:16.797666  Azimuth =  228 Elevation =  37\n",
      "Setting the telescope to Az = 228 and El = 37\n",
      "Corrected azimuth =  315\n",
      " \n",
      "****************************\n",
      "New coordinates from script:\n",
      "****************************\n",
      "2016-11-10 17:02:26.832505  Azimuth =  228 Elevation =  37\n",
      "Setting the telescope to Az = 228 and El = 37\n",
      "Corrected azimuth =  315\n",
      " \n",
      "****************************\n",
      "New coordinates from script:\n",
      "****************************\n",
      "2016-11-10 17:02:36.868952  Azimuth =  228 Elevation =  37\n",
      "Setting the telescope to Az = 228 and El = 37\n",
      "Corrected azimuth =  315\n",
      " \n"
     ]
    }
   ],
   "source": [
    "obj = SkyCoord(266.41, -29.01, unit=\"deg\")\n",
    "ecci = EarthLocation(lat=4.71*u.deg, lon=-72.07*u.deg, height=2600*u.m)\n",
    "utcoffset = 5*u.hour  # Bogota time\n",
    "\n",
    "for i in range(15):\n",
    "    print \"****************************\"\n",
    "    print \"New coordinates from script:\"\n",
    "    print \"****************************\"\n",
    "    time = Time.now()\n",
    "    objaltaz = obj.transform_to(AltAz(obstime=time,location=ecci))  \n",
    "    azimuth=int(np.around(objaltaz.az.degree,0))\n",
    "    elevation=int(np.around(objaltaz.alt.degree,0))\n",
    "    filtel=((el*180/np.pi).astype(int)==elevation)\n",
    "    print time - utcoffset,\" Azimuth = \",azimuth, \"Elevation = \", elevation\n",
    "    if (elevation > 0):\n",
    "        if not(lowerang[filtel] < azimuth < upperang[filtel]):\n",
    "            print \"Desired Az must be between %i and %i\" %(lowerang[filtel][0],upperang[filtel][0])\n",
    "            print \"Az is currently set to %i\" % azimuth\n",
    "            print \"Stopping the telescope now. Waiting for new coordinates from the astropy block.\"\n",
    "            azimuth = 500\n",
    "            elevation = 200\n",
    "            commarduino(azimuth,elevation)\n",
    "            ## communicate this to the arduino\n",
    "        else:\n",
    "            print \"Setting the telescope to Az = %i and El = %i\" %(azimuth, elevation)\n",
    "            print \"Corrected azimuth = % i\" % (np.around(azimuth-az_corr(eloff,elevation),0))\n",
    "            commarduino(int(np.around(azimuth-az_corr(eloff,elevation),0)),elevation)\n",
    "            ## communicate corrected azimuth to the arduino\n",
    "        print  \" \"\n",
    "    else:\n",
    "        print \"Desired El must be greater than zero\"\n",
    "        print \"El is currently set to %i\" % elevation\n",
    "        print \"Stopping the telescope now. Waiting for new coordinates from the astropy block.\"\n",
    "        azimuth = 500\n",
    "        elevation = 200\n",
    "        commarduino(azimuth,elevation)\n",
    "        ## communicate this to the arduino\n",
    "    sleep(10) # this should be at least an order of magnitude higher than the arduino loop delay"
   ]
  },
  {
   "cell_type": "code",
   "execution_count": 41,
   "metadata": {
    "collapsed": false
   },
   "outputs": [
    {
     "data": {
      "text/plain": [
       "array([], dtype=float64)"
      ]
     },
     "execution_count": 41,
     "metadata": {},
     "output_type": "execute_result"
    }
   ],
   "source": [
    "lowerang[filtel]"
   ]
  },
  {
   "cell_type": "code",
   "execution_count": 42,
   "metadata": {
    "collapsed": false
   },
   "outputs": [
    {
     "data": {
      "text/plain": [
       "array([False, False, False, False, False, False, False, False, False,\n",
       "       False, False, False, False, False, False, False, False, False,\n",
       "       False, False, False, False, False, False, False, False, False,\n",
       "       False, False, False, False, False, False, False, False, False,\n",
       "       False, False, False, False, False, False, False, False, False,\n",
       "       False, False, False, False, False, False, False, False, False,\n",
       "       False, False, False, False, False, False, False, False, False,\n",
       "       False, False, False, False, False, False, False, False, False,\n",
       "       False, False, False, False, False, False, False, False, False,\n",
       "       False, False, False, False, False, False], dtype=bool)"
      ]
     },
     "execution_count": 42,
     "metadata": {},
     "output_type": "execute_result"
    }
   ],
   "source": [
    "el*180/np.pi==52"
   ]
  },
  {
   "cell_type": "code",
   "execution_count": 43,
   "metadata": {
    "collapsed": false
   },
   "outputs": [
    {
     "data": {
      "text/plain": [
       "52"
      ]
     },
     "execution_count": 43,
     "metadata": {},
     "output_type": "execute_result"
    }
   ],
   "source": [
    "elevation"
   ]
  },
  {
   "cell_type": "code",
   "execution_count": 51,
   "metadata": {
    "collapsed": false
   },
   "outputs": [
    {
     "data": {
      "text/plain": [
       "0"
      ]
     },
     "execution_count": 51,
     "metadata": {},
     "output_type": "execute_result"
    }
   ],
   "source": [
    "((el*180/np.pi)==52.).sum()"
   ]
  },
  {
   "cell_type": "code",
   "execution_count": 62,
   "metadata": {
    "collapsed": false
   },
   "outputs": [
    {
     "data": {
      "text/plain": [
       "array([False, False, False, False, False, False, False, False, False,\n",
       "       False, False, False, False, False, False, False, False, False,\n",
       "       False, False, False, False, False, False, False, False, False,\n",
       "       False, False, False, False, False, False, False, False, False,\n",
       "       False, False, False, False, False, False, False, False, False,\n",
       "       False, False, False, False, False, False, False,  True, False,\n",
       "       False, False, False, False, False, False, False, False, False,\n",
       "       False, False, False, False, False, False, False, False, False,\n",
       "       False, False, False, False, False, False, False, False, False,\n",
       "       False, False, False, False, False, False], dtype=bool)"
      ]
     },
     "execution_count": 62,
     "metadata": {},
     "output_type": "execute_result"
    }
   ],
   "source": [
    "(el*180/np.pi).astype(int)==52"
   ]
  },
  {
   "cell_type": "code",
   "execution_count": 16,
   "metadata": {
    "collapsed": true
   },
   "outputs": [],
   "source": [
    "commarduino(200,50)"
   ]
  },
  {
   "cell_type": "code",
   "execution_count": null,
   "metadata": {
    "collapsed": true
   },
   "outputs": [],
   "source": []
  },
  {
   "cell_type": "code",
   "execution_count": null,
   "metadata": {
    "collapsed": true
   },
   "outputs": [],
   "source": []
  },
  {
   "cell_type": "code",
   "execution_count": 10,
   "metadata": {
    "collapsed": true
   },
   "outputs": [],
   "source": [
    "import matplotlib.pyplot as plt\n",
    "%matplotlib inline"
   ]
  },
  {
   "cell_type": "code",
   "execution_count": 44,
   "metadata": {
    "collapsed": false,
    "scrolled": false
   },
   "outputs": [
    {
     "data": {
      "image/png": "[encoded data removed]",
      "text/plain": [
       "<matplotlib.figure.Figure at 0x7f3854324ed0>"
      ]
     },
     "metadata": {},
     "output_type": "display_data"
    }
   ],
   "source": [
    "azlimlo=360\n",
    "azlimup=180\n",
    "el=np.linspace(0,90-eloff,90-eloff+1)*np.pi/180\n",
    "omega=np.arcsin(np.sin(el)/np.cos(eloff*np.pi/180))\n",
    "azcor=-np.arctan2(np.cos(omega),np.sin(omega)*np.sin(eloff*np.pi/180))*180/np.pi\n",
    "lowerang=azlimlo-azcor-360\n",
    "upperang=azlimup-azcor\n",
    "plt.plot(el*180/np.pi,lowerang)\n",
    "plt.plot(el*180/np.pi,upperang)\n",
    "plt.fill_between(el*180/np.pi,lowerang, upperang, color='grey', alpha='0.5')\n",
    "plt.ylim(0,360)\n",
    "plt.xlabel(\"Elevation\")\n",
    "plt.ylabel(\"Azimuth\")\n",
    "filtel=el*180/np.pi==elevation"
   ]
  },
  {
   "cell_type": "code",
   "execution_count": 197,
   "metadata": {
    "collapsed": false
   },
   "outputs": [
    {
     "data": {
      "text/plain": [
       "<Time object: scale='utc' format='datetime' value=2016-11-04 14:55:24.135416>"
      ]
     },
     "execution_count": 197,
     "metadata": {},
     "output_type": "execute_result"
    }
   ],
   "source": [
    "time.now()"
   ]
  },
  {
   "cell_type": "code",
   "execution_count": 206,
   "metadata": {
    "collapsed": false
   },
   "outputs": [
    {
     "name": "stdout",
     "output_type": "stream",
     "text": [
      "2016-11-07 19:00:00.000  Object altitude = 15.9 deg  Object azimuth = 238.0 deg\n",
      "2016-11-07 19:15:00.000  Object altitude = 12.7 deg  Object azimuth = 238.8 deg\n",
      "2016-11-07 19:30:00.000  Object altitude = 9.5 deg  Object azimuth = 239.5 deg\n",
      "2016-11-07 19:45:00.000  Object altitude = 6.3 deg  Object azimuth = 240.1 deg\n",
      "2016-11-07 20:00:00.000  Object altitude = 3.0 deg  Object azimuth = 240.5 deg\n",
      "2016-11-07 20:15:00.000  Object altitude = -0.3 deg  Object azimuth = 240.9 deg\n",
      "2016-11-07 20:30:00.000  Object altitude = -3.5 deg  Object azimuth = 241.2 deg\n",
      "2016-11-07 20:45:00.000  Object altitude = -6.8 deg  Object azimuth = 241.3 deg\n",
      "2016-11-07 21:00:00.000  Object altitude = -10.1 deg  Object azimuth = 241.3 deg\n",
      "2016-11-07 21:15:00.000  Object altitude = -13.4 deg  Object azimuth = 241.3 deg\n",
      "2016-11-07 21:30:00.000  Object altitude = -16.7 deg  Object azimuth = 241.1 deg\n",
      "2016-11-07 21:45:00.000  Object altitude = -20.0 deg  Object azimuth = 240.8 deg\n",
      "2016-11-07 22:00:00.000  Object altitude = -23.2 deg  Object azimuth = 240.4 deg\n",
      "2016-11-07 22:15:00.000  Object altitude = -26.5 deg  Object azimuth = 239.8 deg\n",
      "2016-11-07 22:30:00.000  Object altitude = -29.7 deg  Object azimuth = 239.1 deg\n",
      "2016-11-07 22:45:00.000  Object altitude = -32.9 deg  Object azimuth = 238.2 deg\n",
      "2016-11-07 23:00:00.000  Object altitude = -36.1 deg  Object azimuth = 237.2 deg\n",
      "2016-11-07 23:15:00.000  Object altitude = -39.2 deg  Object azimuth = 235.9 deg\n",
      "2016-11-07 23:30:00.000  Object altitude = -42.3 deg  Object azimuth = 234.4 deg\n",
      "2016-11-07 23:45:00.000  Object altitude = -45.3 deg  Object azimuth = 232.5 deg\n",
      "2016-11-08 00:00:00.000  Object altitude = -48.2 deg  Object azimuth = 230.3 deg\n",
      "2016-11-08 00:15:00.000  Object altitude = -51.0 deg  Object azimuth = 227.8 deg\n",
      "2016-11-08 00:30:00.000  Object altitude = -53.8 deg  Object azimuth = 224.7 deg\n",
      "2016-11-08 00:45:00.000  Object altitude = -56.3 deg  Object azimuth = 221.1 deg\n",
      "2016-11-08 01:00:00.000  Object altitude = -58.7 deg  Object azimuth = 216.8 deg\n",
      "2016-11-08 01:15:00.000  Object altitude = -60.8 deg  Object azimuth = 211.8 deg\n",
      "2016-11-08 01:30:00.000  Object altitude = -62.6 deg  Object azimuth = 206.0 deg\n",
      "2016-11-08 01:45:00.000  Object altitude = -64.0 deg  Object azimuth = 199.5 deg\n",
      "2016-11-08 02:00:00.000  Object altitude = -65.1 deg  Object azimuth = 192.2 deg\n",
      "2016-11-08 02:15:00.000  Object altitude = -65.6 deg  Object azimuth = 184.4 deg\n",
      "2016-11-08 02:30:00.000  Object altitude = -65.6 deg  Object azimuth = 176.4 deg\n",
      "2016-11-08 02:45:00.000  Object altitude = -65.2 deg  Object azimuth = 168.6 deg\n",
      "2016-11-08 03:00:00.000  Object altitude = -64.2 deg  Object azimuth = 161.3 deg\n",
      "2016-11-08 03:15:00.000  Object altitude = -62.8 deg  Object azimuth = 154.6 deg\n",
      "2016-11-08 03:30:00.000  Object altitude = -61.0 deg  Object azimuth = 148.8 deg\n",
      "2016-11-08 03:45:00.000  Object altitude = -58.9 deg  Object azimuth = 143.7 deg\n",
      "2016-11-08 04:00:00.000  Object altitude = -56.6 deg  Object azimuth = 139.3 deg\n",
      "2016-11-08 04:15:00.000  Object altitude = -54.0 deg  Object azimuth = 135.6 deg\n",
      "2016-11-08 04:30:00.000  Object altitude = -51.3 deg  Object azimuth = 132.5 deg\n",
      "2016-11-08 04:45:00.000  Object altitude = -48.5 deg  Object azimuth = 129.9 deg\n",
      "2016-11-08 05:00:00.000  Object altitude = -45.6 deg  Object azimuth = 127.7 deg\n",
      "2016-11-08 05:15:00.000  Object altitude = -42.6 deg  Object azimuth = 125.8 deg\n",
      "2016-11-08 05:30:00.000  Object altitude = -39.5 deg  Object azimuth = 124.3 deg\n",
      "2016-11-08 05:45:00.000  Object altitude = -36.4 deg  Object azimuth = 122.9 deg\n",
      "2016-11-08 06:00:00.000  Object altitude = -33.2 deg  Object azimuth = 121.9 deg\n",
      "2016-11-08 06:15:00.000  Object altitude = -30.0 deg  Object azimuth = 121.0 deg\n",
      "2016-11-08 06:30:00.000  Object altitude = -26.8 deg  Object azimuth = 120.2 deg\n",
      "2016-11-08 06:45:00.000  Object altitude = -23.6 deg  Object azimuth = 119.7 deg\n",
      "2016-11-08 07:00:00.000  Object altitude = -20.3 deg  Object azimuth = 119.2 deg\n",
      "2016-11-08 07:15:00.000  Object altitude = -17.0 deg  Object azimuth = 118.9 deg\n",
      "2016-11-08 07:30:00.000  Object altitude = -13.7 deg  Object azimuth = 118.7 deg\n",
      "2016-11-08 07:45:00.000  Object altitude = -10.5 deg  Object azimuth = 118.7 deg\n",
      "2016-11-08 08:00:00.000  Object altitude = -7.2 deg  Object azimuth = 118.7 deg\n",
      "2016-11-08 08:15:00.000  Object altitude = -3.9 deg  Object azimuth = 118.8 deg\n",
      "2016-11-08 08:30:00.000  Object altitude = -0.6 deg  Object azimuth = 119.1 deg\n",
      "2016-11-08 08:45:00.000  Object altitude = 2.7 deg  Object azimuth = 119.4 deg\n",
      "2016-11-08 09:00:00.000  Object altitude = 5.9 deg  Object azimuth = 119.9 deg\n",
      "2016-11-08 09:15:00.000  Object altitude = 9.2 deg  Object azimuth = 120.4 deg\n",
      "2016-11-08 09:30:00.000  Object altitude = 12.4 deg  Object azimuth = 121.1 deg\n",
      "2016-11-08 09:45:00.000  Object altitude = 15.6 deg  Object azimuth = 121.9 deg\n",
      "2016-11-08 10:00:00.000  Object altitude = 18.7 deg  Object azimuth = 122.8 deg\n",
      "2016-11-08 10:15:00.000  Object altitude = 21.9 deg  Object azimuth = 123.9 deg\n",
      "2016-11-08 10:30:00.000  Object altitude = 25.0 deg  Object azimuth = 125.1 deg\n",
      "2016-11-08 10:45:00.000  Object altitude = 28.0 deg  Object azimuth = 126.5 deg\n",
      "2016-11-08 11:00:00.000  Object altitude = 31.0 deg  Object azimuth = 128.1 deg\n",
      "2016-11-08 11:15:00.000  Object altitude = 33.9 deg  Object azimuth = 129.9 deg\n",
      "2016-11-08 11:30:00.000  Object altitude = 36.7 deg  Object azimuth = 132.0 deg\n",
      "2016-11-08 11:45:00.000  Object altitude = 39.5 deg  Object azimuth = 134.3 deg\n",
      "2016-11-08 12:00:00.000  Object altitude = 42.1 deg  Object azimuth = 136.9 deg\n",
      "2016-11-08 12:15:00.000  Object altitude = 44.6 deg  Object azimuth = 139.9 deg\n",
      "2016-11-08 12:30:00.000  Object altitude = 46.9 deg  Object azimuth = 143.2 deg\n",
      "2016-11-08 12:45:00.000  Object altitude = 49.1 deg  Object azimuth = 146.9 deg\n",
      "2016-11-08 13:00:00.000  Object altitude = 51.0 deg  Object azimuth = 151.0 deg\n",
      "2016-11-08 13:15:00.000  Object altitude = 52.7 deg  Object azimuth = 155.6 deg\n",
      "2016-11-08 13:30:00.000  Object altitude = 54.1 deg  Object azimuth = 160.6 deg\n",
      "2016-11-08 13:45:00.000  Object altitude = 55.2 deg  Object azimuth = 166.0 deg\n",
      "2016-11-08 14:00:00.000  Object altitude = 55.9 deg  Object azimuth = 171.6 deg\n",
      "2016-11-08 14:15:00.000  Object altitude = 56.2 deg  Object azimuth = 177.5 deg\n",
      "2016-11-08 14:30:00.000  Object altitude = 56.2 deg  Object azimuth = 183.4 deg\n",
      "2016-11-08 14:45:00.000  Object altitude = 55.8 deg  Object azimuth = 189.3 deg\n",
      "2016-11-08 15:00:00.000  Object altitude = 55.0 deg  Object azimuth = 194.9 deg\n",
      "2016-11-08 15:15:00.000  Object altitude = 53.9 deg  Object azimuth = 200.2 deg\n",
      "2016-11-08 15:30:00.000  Object altitude = 52.4 deg  Object azimuth = 205.1 deg\n",
      "2016-11-08 15:45:00.000  Object altitude = 50.7 deg  Object azimuth = 209.6 deg\n",
      "2016-11-08 16:00:00.000  Object altitude = 48.7 deg  Object azimuth = 213.7 deg\n",
      "2016-11-08 16:15:00.000  Object altitude = 46.6 deg  Object azimuth = 217.4 deg\n",
      "2016-11-08 16:30:00.000  Object altitude = 44.2 deg  Object azimuth = 220.6 deg\n",
      "2016-11-08 16:45:00.000  Object altitude = 41.7 deg  Object azimuth = 223.5 deg\n",
      "2016-11-08 17:00:00.000  Object altitude = 39.1 deg  Object azimuth = 226.1 deg\n",
      "2016-11-08 17:15:00.000  Object altitude = 36.3 deg  Object azimuth = 228.4 deg\n",
      "2016-11-08 17:30:00.000  Object altitude = 33.5 deg  Object azimuth = 230.4 deg\n",
      "2016-11-08 17:45:00.000  Object altitude = 30.5 deg  Object azimuth = 232.2 deg\n",
      "2016-11-08 18:00:00.000  Object altitude = 27.5 deg  Object azimuth = 233.7 deg\n",
      "2016-11-08 18:15:00.000  Object altitude = 24.5 deg  Object azimuth = 235.1 deg\n",
      "2016-11-08 18:30:00.000  Object altitude = 21.4 deg  Object azimuth = 236.3 deg\n",
      "2016-11-08 18:45:00.000  Object altitude = 18.3 deg  Object azimuth = 237.3 deg\n"
     ]
    }
   ],
   "source": [
    "# Observation plan\n",
    "for i in range(24):\n",
    "    ecci = EarthLocation(lat=4.71*u.deg, lon=-72.07*u.deg, height=2600*u.m)\n",
    "    for j in ['00','15','30','45']:\n",
    "        time = Time('%s %i:%s:00' % (str(time.now())[:10],i,j)) \n",
    "        objaltaz = obj.transform_to(AltAz(obstime=time,location=ecci))  \n",
    "        print time - utcoffset, \" Object altitude = {0.alt:.1f}\".format(objaltaz),\" Object azimuth = {0.az:.1f}\".format(objaltaz) "
   ]
  },
  {
   "cell_type": "code",
   "execution_count": null,
   "metadata": {
    "collapsed": true
   },
   "outputs": [],
   "source": []
  }
 ],
 "metadata": {
  "kernelspec": {
   "display_name": "Python 2",
   "language": "python",
   "name": "python2"
  },
  "language_info": {
   "codemirror_mode": {
    "name": "ipython",
    "version": 2
   },
   "file_extension": ".py",
   "mimetype": "text/x-python",
   "name": "python",
   "nbconvert_exporter": "python",
   "pygments_lexer": "ipython2",
   "version": "2.7.6"
  }
 },
 "nbformat": 4,
 "nbformat_minor": 0
}
