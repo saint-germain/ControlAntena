{
 "cells": [
  {
   "cell_type": "code",
   "execution_count": 1,
   "metadata": {
    "collapsed": false
   },
   "outputs": [
    {
     "data": {
      "text/plain": [
       "\"M33's Altitude = 5.6e+01 deg\""
      ]
     },
     "execution_count": 1,
     "metadata": {},
     "output_type": "execute_result"
    }
   ],
   "source": [
    "import numpy as np\n",
    "from astropy import units as u\n",
    "from astropy.time import Time\n",
    "from astropy.coordinates import SkyCoord, EarthLocation, AltAz\n",
    "m33 = SkyCoord(266.41, -29.01, unit=\"deg\")\n",
    "bear_mountain = EarthLocation(lat=4.711*u.deg, lon=-72.07*u.deg, height=2600*u.m)\n",
    "utcoffset = -4*u.hour  # Eastern Daylight Time\n",
    "time = Time('2012-7-12 23:00:00') - utcoffset\n",
    "m33altaz = m33.transform_to(AltAz(obstime=time,location=bear_mountain))  \n",
    "\"M33's Altitude = {0.alt:.2}\".format(m33altaz)  "
   ]
  },
  {
   "cell_type": "code",
   "execution_count": 280,
   "metadata": {
    "collapsed": true
   },
   "outputs": [],
   "source": [
    "import astropy.coordinates"
   ]
  },
  {
   "cell_type": "code",
   "execution_count": 305,
   "metadata": {
    "collapsed": false
   },
   "outputs": [
    {
     "data": {
      "text/plain": [
       "<SkyCoord (AltAz: obstime=2016-10-28 16:55:02.355274, location=(1957748.629049989, -6050472.961243703, 520553.9533501107) m, pressure=0.0 hPa, temperature=0.0 deg_C, relative_humidity=0, obswl=1.0 micron): (az, alt, distance) in (deg, deg, m)\n",
       "    (194.37256341, 70.93852792, 148600913362.75524902)>"
      ]
     },
     "execution_count": 305,
     "metadata": {},
     "output_type": "execute_result"
    }
   ],
   "source": [
    "astropy.coordinates.get_sun(time.now()).transform_to(AltAz(obstime=time.now(),location=bear_mountain))"
   ]
  },
  {
   "cell_type": "code",
   "execution_count": 306,
   "metadata": {
    "collapsed": false
   },
   "outputs": [
    {
     "data": {
      "text/plain": [
       "(<Latitude -3.3033630220677326 deg>, <Longitude 256.3808687761193 deg>)"
      ]
     },
     "execution_count": 306,
     "metadata": {},
     "output_type": "execute_result"
    }
   ],
   "source": [
    "astropy.coordinates.get_sun(time.now()-1*u.hour).transform_to(AltAz(obstime=time.now(),location=bear_mountain)).alt,astropy.coordinates.get_sun(time.now()).transform_to(AltAz(obstime=time.now(),location=bear_mountain)).az"
   ]
  },
  {
   "cell_type": "code",
   "execution_count": 285,
   "metadata": {
    "collapsed": false
   },
   "outputs": [
    {
     "ename": "ValueError",
     "evalue": "Input values did not match any of the formats where the format keyword is optional [u'datetime', u'iso', u'isot', u'yday', u'fits', u'byear_str', u'jyear_str']",
     "output_type": "error",
     "traceback": [
      "\u001b[1;31m---------------------------------------------------------------------------\u001b[0m",
      "\u001b[1;31mValueError\u001b[0m                                Traceback (most recent call last)",
      "\u001b[1;32m<ipython-input-285-456902b1d3ce>\u001b[0m in \u001b[0;36m<module>\u001b[1;34m()\u001b[0m\n\u001b[1;32m----> 1\u001b[1;33m \u001b[0mTime\u001b[0m\u001b[1;33m(\u001b[0m\u001b[1;34m'now'\u001b[0m\u001b[1;33m)\u001b[0m\u001b[1;33m\u001b[0m\u001b[0m\n\u001b[0m",
      "\u001b[1;32m/usr/local/lib/python2.7/dist-packages/astropy/time/core.pyc\u001b[0m in \u001b[0;36m__init__\u001b[1;34m(self, val, val2, format, scale, precision, in_subfmt, out_subfmt, location, copy)\u001b[0m\n\u001b[0;32m    218\u001b[0m                 \u001b[0mself\u001b[0m\u001b[1;33m.\u001b[0m\u001b[0m_set_scale\u001b[0m\u001b[1;33m(\u001b[0m\u001b[0mscale\u001b[0m\u001b[1;33m)\u001b[0m\u001b[1;33m\u001b[0m\u001b[0m\n\u001b[0;32m    219\u001b[0m         \u001b[1;32melse\u001b[0m\u001b[1;33m:\u001b[0m\u001b[1;33m\u001b[0m\u001b[0m\n\u001b[1;32m--> 220\u001b[1;33m             \u001b[0mself\u001b[0m\u001b[1;33m.\u001b[0m\u001b[0m_init_from_vals\u001b[0m\u001b[1;33m(\u001b[0m\u001b[0mval\u001b[0m\u001b[1;33m,\u001b[0m \u001b[0mval2\u001b[0m\u001b[1;33m,\u001b[0m \u001b[0mformat\u001b[0m\u001b[1;33m,\u001b[0m \u001b[0mscale\u001b[0m\u001b[1;33m,\u001b[0m \u001b[0mcopy\u001b[0m\u001b[1;33m)\u001b[0m\u001b[1;33m\u001b[0m\u001b[0m\n\u001b[0m\u001b[0;32m    221\u001b[0m \u001b[1;33m\u001b[0m\u001b[0m\n\u001b[0;32m    222\u001b[0m         if self.location and (self.location.size > 1\n",
      "\u001b[1;32m/usr/local/lib/python2.7/dist-packages/astropy/time/core.pyc\u001b[0m in \u001b[0;36m_init_from_vals\u001b[1;34m(self, val, val2, format, scale, copy)\u001b[0m\n\u001b[0;32m    260\u001b[0m \u001b[1;33m\u001b[0m\u001b[0m\n\u001b[0;32m    261\u001b[0m         \u001b[1;31m# Parse / convert input values into internal jd1, jd2 based on format\u001b[0m\u001b[1;33m\u001b[0m\u001b[1;33m\u001b[0m\u001b[0m\n\u001b[1;32m--> 262\u001b[1;33m         \u001b[0mself\u001b[0m\u001b[1;33m.\u001b[0m\u001b[0m_time\u001b[0m \u001b[1;33m=\u001b[0m \u001b[0mself\u001b[0m\u001b[1;33m.\u001b[0m\u001b[0m_get_time_fmt\u001b[0m\u001b[1;33m(\u001b[0m\u001b[0mval\u001b[0m\u001b[1;33m,\u001b[0m \u001b[0mval2\u001b[0m\u001b[1;33m,\u001b[0m \u001b[0mformat\u001b[0m\u001b[1;33m,\u001b[0m \u001b[0mscale\u001b[0m\u001b[1;33m)\u001b[0m\u001b[1;33m\u001b[0m\u001b[0m\n\u001b[0m\u001b[0;32m    263\u001b[0m         \u001b[0mself\u001b[0m\u001b[1;33m.\u001b[0m\u001b[0m_format\u001b[0m \u001b[1;33m=\u001b[0m \u001b[0mself\u001b[0m\u001b[1;33m.\u001b[0m\u001b[0m_time\u001b[0m\u001b[1;33m.\u001b[0m\u001b[0mname\u001b[0m\u001b[1;33m\u001b[0m\u001b[0m\n\u001b[0;32m    264\u001b[0m \u001b[1;33m\u001b[0m\u001b[0m\n",
      "\u001b[1;32m/usr/local/lib/python2.7/dist-packages/astropy/time/core.pyc\u001b[0m in \u001b[0;36m_get_time_fmt\u001b[1;34m(self, val, val2, format, scale)\u001b[0m\n\u001b[0;32m    304\u001b[0m                 \u001b[1;32mpass\u001b[0m\u001b[1;33m\u001b[0m\u001b[0m\n\u001b[0;32m    305\u001b[0m         \u001b[1;32melse\u001b[0m\u001b[1;33m:\u001b[0m\u001b[1;33m\u001b[0m\u001b[0m\n\u001b[1;32m--> 306\u001b[1;33m             \u001b[1;32mraise\u001b[0m \u001b[0mValueError\u001b[0m\u001b[1;33m(\u001b[0m\u001b[1;34m'Input values did not match {0}'\u001b[0m\u001b[1;33m.\u001b[0m\u001b[0mformat\u001b[0m\u001b[1;33m(\u001b[0m\u001b[0merr_msg\u001b[0m\u001b[1;33m)\u001b[0m\u001b[1;33m)\u001b[0m\u001b[1;33m\u001b[0m\u001b[0m\n\u001b[0m\u001b[0;32m    307\u001b[0m \u001b[1;33m\u001b[0m\u001b[0m\n\u001b[0;32m    308\u001b[0m     \u001b[1;33m@\u001b[0m\u001b[0mclassmethod\u001b[0m\u001b[1;33m\u001b[0m\u001b[0m\n",
      "\u001b[1;31mValueError\u001b[0m: Input values did not match any of the formats where the format keyword is optional [u'datetime', u'iso', u'isot', u'yday', u'fits', u'byear_str', u'jyear_str']"
     ]
    }
   ],
   "source": [
    "Time('now')"
   ]
  },
  {
   "cell_type": "code",
   "execution_count": 42,
   "metadata": {
    "collapsed": false
   },
   "outputs": [
    {
     "data": {
      "text/plain": [
       "<SkyCoord (ICRS): (ra, dec) in deg\n",
       "    (266.41, -29.01)>"
      ]
     },
     "execution_count": 42,
     "metadata": {},
     "output_type": "execute_result"
    }
   ],
   "source": [
    "m33"
   ]
  },
  {
   "cell_type": "code",
   "execution_count": 43,
   "metadata": {
    "collapsed": false
   },
   "outputs": [
    {
     "name": "stdout",
     "output_type": "stream",
     "text": [
      "2016-10-26 05:00:00.000  Sgr A altitude = -37.9 deg  Sgr A azimuth = 236.4 deg\n",
      "2016-10-26 05:15:00.000  Sgr A altitude = -41.0 deg  Sgr A azimuth = 235.0 deg\n",
      "2016-10-26 05:30:00.000  Sgr A altitude = -44.1 deg  Sgr A azimuth = 233.3 deg\n",
      "2016-10-26 05:45:00.000  Sgr A altitude = -47.0 deg  Sgr A azimuth = 231.3 deg\n",
      "2016-10-26 06:00:00.000  Sgr A altitude = -49.9 deg  Sgr A azimuth = 228.9 deg\n",
      "2016-10-26 06:15:00.000  Sgr A altitude = -52.7 deg  Sgr A azimuth = 226.0 deg\n",
      "2016-10-26 06:30:00.000  Sgr A altitude = -55.3 deg  Sgr A azimuth = 222.6 deg\n",
      "2016-10-26 06:45:00.000  Sgr A altitude = -57.7 deg  Sgr A azimuth = 218.7 deg\n",
      "2016-10-26 07:00:00.000  Sgr A altitude = -60.0 deg  Sgr A azimuth = 214.0 deg\n",
      "2016-10-26 07:15:00.000  Sgr A altitude = -61.9 deg  Sgr A azimuth = 208.5 deg\n",
      "2016-10-26 07:30:00.000  Sgr A altitude = -63.5 deg  Sgr A azimuth = 202.2 deg\n",
      "2016-10-26 07:45:00.000  Sgr A altitude = -64.7 deg  Sgr A azimuth = 195.2 deg\n",
      "2016-10-26 08:00:00.000  Sgr A altitude = -65.5 deg  Sgr A azimuth = 187.6 deg\n",
      "2016-10-26 08:15:00.000  Sgr A altitude = -65.7 deg  Sgr A azimuth = 179.7 deg\n",
      "2016-10-26 08:30:00.000  Sgr A altitude = -65.4 deg  Sgr A azimuth = 171.8 deg\n",
      "2016-10-26 08:45:00.000  Sgr A altitude = -64.6 deg  Sgr A azimuth = 164.2 deg\n",
      "2016-10-26 09:00:00.000  Sgr A altitude = -63.4 deg  Sgr A azimuth = 157.2 deg\n",
      "2016-10-26 09:15:00.000  Sgr A altitude = -61.8 deg  Sgr A azimuth = 151.0 deg\n",
      "2016-10-26 09:30:00.000  Sgr A altitude = -59.8 deg  Sgr A azimuth = 145.6 deg\n",
      "2016-10-26 09:45:00.000  Sgr A altitude = -57.5 deg  Sgr A azimuth = 141.0 deg\n",
      "2016-10-26 10:00:00.000  Sgr A altitude = -55.1 deg  Sgr A azimuth = 137.1 deg\n",
      "2016-10-26 10:15:00.000  Sgr A altitude = -52.5 deg  Sgr A azimuth = 133.7 deg\n",
      "2016-10-26 10:30:00.000  Sgr A altitude = -49.7 deg  Sgr A azimuth = 130.9 deg\n",
      "2016-10-26 10:45:00.000  Sgr A altitude = -46.8 deg  Sgr A azimuth = 128.5 deg\n",
      "2016-10-26 11:00:00.000  Sgr A altitude = -43.8 deg  Sgr A azimuth = 126.5 deg\n",
      "2016-10-26 11:15:00.000  Sgr A altitude = -40.8 deg  Sgr A azimuth = 124.9 deg\n",
      "2016-10-26 11:30:00.000  Sgr A altitude = -37.7 deg  Sgr A azimuth = 123.5 deg\n",
      "2016-10-26 11:45:00.000  Sgr A altitude = -34.5 deg  Sgr A azimuth = 122.3 deg\n",
      "2016-10-26 12:00:00.000  Sgr A altitude = -31.3 deg  Sgr A azimuth = 121.3 deg\n",
      "2016-10-26 12:15:00.000  Sgr A altitude = -28.1 deg  Sgr A azimuth = 120.5 deg\n",
      "2016-10-26 12:30:00.000  Sgr A altitude = -24.9 deg  Sgr A azimuth = 119.9 deg\n",
      "2016-10-26 12:45:00.000  Sgr A altitude = -21.6 deg  Sgr A azimuth = 119.4 deg\n",
      "2016-10-26 13:00:00.000  Sgr A altitude = -18.4 deg  Sgr A azimuth = 119.0 deg\n",
      "2016-10-26 13:15:00.000  Sgr A altitude = -15.1 deg  Sgr A azimuth = 118.8 deg\n",
      "2016-10-26 13:30:00.000  Sgr A altitude = -11.8 deg  Sgr A azimuth = 118.7 deg\n",
      "2016-10-26 13:45:00.000  Sgr A altitude = -8.5 deg  Sgr A azimuth = 118.7 deg\n",
      "2016-10-26 14:00:00.000  Sgr A altitude = -5.2 deg  Sgr A azimuth = 118.8 deg\n",
      "2016-10-26 14:15:00.000  Sgr A altitude = -1.9 deg  Sgr A azimuth = 119.0 deg\n",
      "2016-10-26 14:30:00.000  Sgr A altitude = 1.3 deg  Sgr A azimuth = 119.3 deg\n",
      "2016-10-26 14:45:00.000  Sgr A altitude = 4.6 deg  Sgr A azimuth = 119.7 deg\n",
      "2016-10-26 15:00:00.000  Sgr A altitude = 7.8 deg  Sgr A azimuth = 120.2 deg\n",
      "2016-10-26 15:15:00.000  Sgr A altitude = 11.1 deg  Sgr A azimuth = 120.8 deg\n",
      "2016-10-26 15:30:00.000  Sgr A altitude = 14.3 deg  Sgr A azimuth = 121.5 deg\n",
      "2016-10-26 15:45:00.000  Sgr A altitude = 17.5 deg  Sgr A azimuth = 122.4 deg\n",
      "2016-10-26 16:00:00.000  Sgr A altitude = 20.6 deg  Sgr A azimuth = 123.4 deg\n",
      "2016-10-26 16:15:00.000  Sgr A altitude = 23.7 deg  Sgr A azimuth = 124.6 deg\n",
      "2016-10-26 16:30:00.000  Sgr A altitude = 26.8 deg  Sgr A azimuth = 125.9 deg\n",
      "2016-10-26 16:45:00.000  Sgr A altitude = 29.8 deg  Sgr A azimuth = 127.4 deg\n",
      "2016-10-26 17:00:00.000  Sgr A altitude = 32.7 deg  Sgr A azimuth = 129.2 deg\n",
      "2016-10-26 17:15:00.000  Sgr A altitude = 35.6 deg  Sgr A azimuth = 131.1 deg\n",
      "2016-10-26 17:30:00.000  Sgr A altitude = 38.4 deg  Sgr A azimuth = 133.3 deg\n",
      "2016-10-26 17:45:00.000  Sgr A altitude = 41.0 deg  Sgr A azimuth = 135.8 deg\n",
      "2016-10-26 18:00:00.000  Sgr A altitude = 43.6 deg  Sgr A azimuth = 138.6 deg\n",
      "2016-10-26 18:15:00.000  Sgr A altitude = 46.0 deg  Sgr A azimuth = 141.8 deg\n",
      "2016-10-26 18:30:00.000  Sgr A altitude = 48.2 deg  Sgr A azimuth = 145.3 deg\n",
      "2016-10-26 18:45:00.000  Sgr A altitude = 50.2 deg  Sgr A azimuth = 149.3 deg\n",
      "2016-10-26 19:00:00.000  Sgr A altitude = 52.0 deg  Sgr A azimuth = 153.7 deg\n",
      "2016-10-26 19:15:00.000  Sgr A altitude = 53.5 deg  Sgr A azimuth = 158.5 deg\n",
      "2016-10-26 19:30:00.000  Sgr A altitude = 54.8 deg  Sgr A azimuth = 163.7 deg\n",
      "2016-10-26 19:45:00.000  Sgr A altitude = 55.6 deg  Sgr A azimuth = 169.3 deg\n",
      "2016-10-26 20:00:00.000  Sgr A altitude = 56.1 deg  Sgr A azimuth = 175.1 deg\n",
      "2016-10-26 20:15:00.000  Sgr A altitude = 56.3 deg  Sgr A azimuth = 181.0 deg\n",
      "2016-10-26 20:30:00.000  Sgr A altitude = 56.0 deg  Sgr A azimuth = 186.9 deg\n",
      "2016-10-26 20:45:00.000  Sgr A altitude = 55.4 deg  Sgr A azimuth = 192.6 deg\n",
      "2016-10-26 21:00:00.000  Sgr A altitude = 54.4 deg  Sgr A azimuth = 198.1 deg\n",
      "2016-10-26 21:15:00.000  Sgr A altitude = 53.1 deg  Sgr A azimuth = 203.2 deg\n",
      "2016-10-26 21:30:00.000  Sgr A altitude = 51.4 deg  Sgr A azimuth = 207.8 deg\n",
      "2016-10-26 21:45:00.000  Sgr A altitude = 49.6 deg  Sgr A azimuth = 212.1 deg\n",
      "2016-10-26 22:00:00.000  Sgr A altitude = 47.5 deg  Sgr A azimuth = 215.9 deg\n",
      "2016-10-26 22:15:00.000  Sgr A altitude = 45.2 deg  Sgr A azimuth = 219.3 deg\n",
      "2016-10-26 22:30:00.000  Sgr A altitude = 42.7 deg  Sgr A azimuth = 222.4 deg\n",
      "2016-10-26 22:45:00.000  Sgr A altitude = 40.1 deg  Sgr A azimuth = 225.1 deg\n",
      "2016-10-26 23:00:00.000  Sgr A altitude = 37.4 deg  Sgr A azimuth = 227.5 deg\n",
      "2016-10-26 23:15:00.000  Sgr A altitude = 34.6 deg  Sgr A azimuth = 229.6 deg\n",
      "2016-10-26 23:30:00.000  Sgr A altitude = 31.7 deg  Sgr A azimuth = 231.5 deg\n",
      "2016-10-26 23:45:00.000  Sgr A altitude = 28.8 deg  Sgr A azimuth = 233.1 deg\n",
      "2016-10-27 00:00:00.000  Sgr A altitude = 25.7 deg  Sgr A azimuth = 234.5 deg\n",
      "2016-10-27 00:15:00.000  Sgr A altitude = 22.7 deg  Sgr A azimuth = 235.8 deg\n",
      "2016-10-27 00:30:00.000  Sgr A altitude = 19.5 deg  Sgr A azimuth = 236.9 deg\n",
      "2016-10-27 00:45:00.000  Sgr A altitude = 16.4 deg  Sgr A azimuth = 237.9 deg\n",
      "2016-10-27 01:00:00.000  Sgr A altitude = 13.2 deg  Sgr A azimuth = 238.7 deg\n",
      "2016-10-27 01:15:00.000  Sgr A altitude = 10.0 deg  Sgr A azimuth = 239.4 deg\n",
      "2016-10-27 01:30:00.000  Sgr A altitude = 6.7 deg  Sgr A azimuth = 240.0 deg\n",
      "2016-10-27 01:45:00.000  Sgr A altitude = 3.5 deg  Sgr A azimuth = 240.5 deg\n",
      "2016-10-27 02:00:00.000  Sgr A altitude = 0.2 deg  Sgr A azimuth = 240.9 deg\n",
      "2016-10-27 02:15:00.000  Sgr A altitude = -3.1 deg  Sgr A azimuth = 241.1 deg\n",
      "2016-10-27 02:30:00.000  Sgr A altitude = -6.3 deg  Sgr A azimuth = 241.3 deg\n",
      "2016-10-27 02:45:00.000  Sgr A altitude = -9.6 deg  Sgr A azimuth = 241.3 deg\n",
      "2016-10-27 03:00:00.000  Sgr A altitude = -12.9 deg  Sgr A azimuth = 241.3 deg\n",
      "2016-10-27 03:15:00.000  Sgr A altitude = -16.2 deg  Sgr A azimuth = 241.1 deg\n",
      "2016-10-27 03:30:00.000  Sgr A altitude = -19.5 deg  Sgr A azimuth = 240.9 deg\n",
      "2016-10-27 03:45:00.000  Sgr A altitude = -22.7 deg  Sgr A azimuth = 240.5 deg\n",
      "2016-10-27 04:00:00.000  Sgr A altitude = -26.0 deg  Sgr A azimuth = 239.9 deg\n",
      "2016-10-27 04:15:00.000  Sgr A altitude = -29.2 deg  Sgr A azimuth = 239.2 deg\n",
      "2016-10-27 04:30:00.000  Sgr A altitude = -32.4 deg  Sgr A azimuth = 238.4 deg\n",
      "2016-10-27 04:45:00.000  Sgr A altitude = -35.6 deg  Sgr A azimuth = 237.3 deg\n"
     ]
    }
   ],
   "source": [
    "for i in range(24):\n",
    "    bear_mountain = EarthLocation(lat=4.711*u.deg, lon=-72.07*u.deg, height=2600*u.m)\n",
    "    utcoffset = -5*u.hour  # Eastern Daylight Time\n",
    "    for j in ['00','15','30','45']:\n",
    "        time = Time('2016-10-26 %i:%s:00' % (i,j)) - utcoffset\n",
    "        m33altaz = m33.transform_to(AltAz(obstime=time,location=bear_mountain))  \n",
    "        print time, \" Sgr A altitude = {0.alt:.1f}\".format(m33altaz),\" Sgr A azimuth = {0.az:.1f}\".format(m33altaz)  "
   ]
  },
  {
   "cell_type": "code",
   "execution_count": 26,
   "metadata": {
    "collapsed": false
   },
   "outputs": [
    {
     "data": {
      "text/latex": [
       "$32^\\circ09{}^\\prime05.525{}^{\\prime\\prime}$"
      ],
      "text/plain": [
       "<Latitude 32.15153471037102 deg>"
      ]
     },
     "execution_count": 26,
     "metadata": {},
     "output_type": "execute_result"
    }
   ],
   "source": [
    "m33altaz.alt"
   ]
  },
  {
   "cell_type": "code",
   "execution_count": 12,
   "metadata": {
    "collapsed": false
   },
   "outputs": [
    {
     "data": {
      "text/latex": [
       "$27^\\circ38{}^\\prime16.0469{}^{\\prime\\prime}$"
      ],
      "text/plain": [
       "<Longitude 27.637790797274945 deg>"
      ]
     },
     "execution_count": 12,
     "metadata": {},
     "output_type": "execute_result"
    }
   ],
   "source": [
    "m33altaz.az"
   ]
  },
  {
   "cell_type": "code",
   "execution_count": 44,
   "metadata": {
    "collapsed": true
   },
   "outputs": [],
   "source": [
    "import serial"
   ]
  },
  {
   "cell_type": "code",
   "execution_count": 48,
   "metadata": {
    "collapsed": true
   },
   "outputs": [],
   "source": [
    "from time import sleep\n"
   ]
  },
  {
   "cell_type": "code",
   "execution_count": 47,
   "metadata": {
    "collapsed": false
   },
   "outputs": [
    {
     "name": "stdout",
     "output_type": "stream",
     "text": [
      "ls: cannot access dev/tty.*: No such file or directory\r\n"
     ]
    }
   ],
   "source": [
    "ls dev/tty.* "
   ]
  },
  {
   "cell_type": "code",
   "execution_count": null,
   "metadata": {
    "collapsed": true
   },
   "outputs": [],
   "source": [
    "import serial\n",
    "ser = serial.Serial('/dev/tty.usbmodem1d11', 9600) # Establish the connection on a specific port\n",
    "counter = 32 # Below 32 everything in ASCII is gibberish\n",
    "while True:\n",
    "     counter +=1\n",
    "     ser.write(str(chr(counter))) # Convert the decimal number to ASCII then send it to the Arduino\n",
    "     print ser.readline() # Read the newest output from the Arduino\n",
    "     sleep(.1) # Delay for one tenth of a second\n",
    "     if counter == 255:\n",
    "     counter = 32"
   ]
  },
  {
   "cell_type": "code",
   "execution_count": 208,
   "metadata": {
    "collapsed": false
   },
   "outputs": [],
   "source": [
    "ser = serial.Serial('/dev/ttyACM0', 9600) # Establish the connection on a specific port\n"
   ]
  },
  {
   "cell_type": "code",
   "execution_count": 90,
   "metadata": {
    "collapsed": false
   },
   "outputs": [
    {
     "name": "stdout",
     "output_type": "stream",
     "text": [
      " \n"
     ]
    }
   ],
   "source": [
    "ser.write(str(chr(counter))) # Convert the decimal number to ASCII then send it to the Arduino\n",
    "print str(chr(counter))\n"
   ]
  },
  {
   "cell_type": "code",
   "execution_count": 91,
   "metadata": {
    "collapsed": false
   },
   "outputs": [
    {
     "name": "stdout",
     "output_type": "stream",
     "text": [
      " \n"
     ]
    }
   ],
   "source": [
    "print str(chr(counter))"
   ]
  },
  {
   "cell_type": "code",
   "execution_count": null,
   "metadata": {
    "collapsed": true
   },
   "outputs": [],
   "source": []
  },
  {
   "cell_type": "code",
   "execution_count": null,
   "metadata": {
    "collapsed": true
   },
   "outputs": [],
   "source": [
    "def a2s(arr):\n",
    "    \"\"\" Array of integer byte values --> binary string\n",
    "    \"\"\"\n",
    "    return ''.join(chr(b) for b in arr)"
   ]
  },
  {
   "cell_type": "code",
   "execution_count": 309,
   "metadata": {
    "collapsed": false
   },
   "outputs": [],
   "source": [
    "ser = serial.Serial('/dev/ttyACM0', 9600) # Establish the connection on a specific port\n",
    "azbin=bin(2700)\n",
    "azpadn=16-len(azbin[2:])\n",
    "azbin='0b'+azpadn*'0'+azbin[2:]\n",
    "altbin=bin(450)\n",
    "altpadn=16-len(altbin[2:])\n",
    "altbin='0b'+altpadn*'0'+altbin[2:]\n",
    "ser.write(a2s([int(azbin[2:-8],2),int(azbin[-8:],2),int(altbin[2:-8],2),int(altbin[-8:],2)]))\n",
    "ser.close()"
   ]
  },
  {
   "cell_type": "code",
   "execution_count": 229,
   "metadata": {
    "collapsed": false
   },
   "outputs": [
    {
     "data": {
      "text/plain": [
       "14"
      ]
     },
     "execution_count": 229,
     "metadata": {},
     "output_type": "execute_result"
    }
   ],
   "source": [
    "mybin=bin(3600)\n",
    "int(mybin[2:-8],2)"
   ]
  },
  {
   "cell_type": "code",
   "execution_count": 241,
   "metadata": {
    "collapsed": false
   },
   "outputs": [
    {
     "data": {
      "text/plain": [
       "'0b0000111000010000'"
      ]
     },
     "execution_count": 241,
     "metadata": {},
     "output_type": "execute_result"
    }
   ],
   "source": [
    "mybin=bin(3600)\n",
    "padn=16-len(mybin[2:])\n",
    "mybin='0b'+padn*'0'+mybin[2:]\n",
    "mybin"
   ]
  },
  {
   "cell_type": "code",
   "execution_count": 238,
   "metadata": {
    "collapsed": false
   },
   "outputs": [
    {
     "data": {
      "text/plain": [
       "15"
      ]
     },
     "execution_count": 238,
     "metadata": {},
     "output_type": "execute_result"
    }
   ],
   "source": [
    "len(padn*'0')"
   ]
  },
  {
   "cell_type": "code",
   "execution_count": null,
   "metadata": {
    "collapsed": true
   },
   "outputs": [],
   "source": []
  },
  {
   "cell_type": "code",
   "execution_count": 108,
   "metadata": {
    "collapsed": true
   },
   "outputs": [],
   "source": [
    "ser.close()"
   ]
  },
  {
   "cell_type": "code",
   "execution_count": 119,
   "metadata": {
    "collapsed": false
   },
   "outputs": [
    {
     "ename": "OSError",
     "evalue": "[Errno 11] Resource temporarily unavailable",
     "output_type": "error",
     "traceback": [
      "\u001b[1;31m---------------------------------------------------------------------------\u001b[0m",
      "\u001b[1;31mOSError\u001b[0m                                   Traceback (most recent call last)",
      "\u001b[1;32m<ipython-input-119-4229758369be>\u001b[0m in \u001b[0;36m<module>\u001b[1;34m()\u001b[0m\n\u001b[1;32m----> 1\u001b[1;33m \u001b[0mser\u001b[0m\u001b[1;33m.\u001b[0m\u001b[0mreadline\u001b[0m\u001b[1;33m(\u001b[0m\u001b[1;33m)\u001b[0m\u001b[1;33m\u001b[0m\u001b[0m\n\u001b[0m",
      "\u001b[1;32m/usr/lib/python2.7/dist-packages/serial/serialposix.pyc\u001b[0m in \u001b[0;36mread\u001b[1;34m(self, size)\u001b[0m\n\u001b[0;32m    451\u001b[0m             \u001b[1;32mif\u001b[0m \u001b[1;32mnot\u001b[0m \u001b[0mready\u001b[0m\u001b[1;33m:\u001b[0m\u001b[1;33m\u001b[0m\u001b[0m\n\u001b[0;32m    452\u001b[0m                 \u001b[1;32mbreak\u001b[0m   \u001b[1;31m# timeout\u001b[0m\u001b[1;33m\u001b[0m\u001b[0m\n\u001b[1;32m--> 453\u001b[1;33m             \u001b[0mbuf\u001b[0m \u001b[1;33m=\u001b[0m \u001b[0mos\u001b[0m\u001b[1;33m.\u001b[0m\u001b[0mread\u001b[0m\u001b[1;33m(\u001b[0m\u001b[0mself\u001b[0m\u001b[1;33m.\u001b[0m\u001b[0mfd\u001b[0m\u001b[1;33m,\u001b[0m \u001b[0msize\u001b[0m\u001b[1;33m-\u001b[0m\u001b[0mlen\u001b[0m\u001b[1;33m(\u001b[0m\u001b[0mread\u001b[0m\u001b[1;33m)\u001b[0m\u001b[1;33m)\u001b[0m\u001b[1;33m\u001b[0m\u001b[0m\n\u001b[0m\u001b[0;32m    454\u001b[0m             \u001b[1;31m# read should always return some data as select reported it was\u001b[0m\u001b[1;33m\u001b[0m\u001b[1;33m\u001b[0m\u001b[0m\n\u001b[0;32m    455\u001b[0m             \u001b[1;31m# ready to read when we get to this point.\u001b[0m\u001b[1;33m\u001b[0m\u001b[1;33m\u001b[0m\u001b[0m\n",
      "\u001b[1;31mOSError\u001b[0m: [Errno 11] Resource temporarily unavailable"
     ]
    }
   ],
   "source": [
    "ser.readline()"
   ]
  },
  {
   "cell_type": "code",
   "execution_count": 120,
   "metadata": {
    "collapsed": true
   },
   "outputs": [],
   "source": [
    "def a2s(arr):\n",
    "    \"\"\" Array of integer byte values --> binary string\n",
    "    \"\"\"\n",
    "    return ''.join(chr(b) for b in arr)"
   ]
  },
  {
   "cell_type": "code",
   "execution_count": 133,
   "metadata": {
    "collapsed": false,
    "scrolled": true
   },
   "outputs": [
    {
     "data": {
      "text/plain": [
       "'\\x0b\\x0c\\r\\x0e'"
      ]
     },
     "execution_count": 133,
     "metadata": {},
     "output_type": "execute_result"
    }
   ],
   "source": [
    "a2s([11,12,13,14])"
   ]
  },
  {
   "cell_type": "code",
   "execution_count": 206,
   "metadata": {
    "collapsed": false
   },
   "outputs": [
    {
     "data": {
      "text/plain": [
       "'\\x10\\x0e'"
      ]
     },
     "execution_count": 206,
     "metadata": {},
     "output_type": "execute_result"
    }
   ],
   "source": [
    "a2s([int(mybin[-8:],2),int(mybin[2:-8],2)])"
   ]
  },
  {
   "cell_type": "code",
   "execution_count": 207,
   "metadata": {
    "collapsed": false
   },
   "outputs": [
    {
     "data": {
      "text/plain": [
       "'\\x10'"
      ]
     },
     "execution_count": 207,
     "metadata": {},
     "output_type": "execute_result"
    }
   ],
   "source": [
    "a2s([int(mybin[-8:],2)])"
   ]
  },
  {
   "cell_type": "code",
   "execution_count": null,
   "metadata": {
    "collapsed": true
   },
   "outputs": [],
   "source": []
  },
  {
   "cell_type": "code",
   "execution_count": null,
   "metadata": {
    "collapsed": true
   },
   "outputs": [],
   "source": []
  },
  {
   "cell_type": "code",
   "execution_count": null,
   "metadata": {
    "collapsed": true
   },
   "outputs": [],
   "source": []
  },
  {
   "cell_type": "code",
   "execution_count": null,
   "metadata": {
    "collapsed": true
   },
   "outputs": [],
   "source": []
  },
  {
   "cell_type": "code",
   "execution_count": 150,
   "metadata": {
    "collapsed": true
   },
   "outputs": [],
   "source": [
    "import binascii"
   ]
  },
  {
   "cell_type": "code",
   "execution_count": 164,
   "metadata": {
    "collapsed": false
   },
   "outputs": [
    {
     "data": {
      "text/plain": [
       "'0b111000010000'"
      ]
     },
     "execution_count": 164,
     "metadata": {},
     "output_type": "execute_result"
    }
   ],
   "source": [
    "bin(3600)"
   ]
  },
  {
   "cell_type": "code",
   "execution_count": 168,
   "metadata": {
    "collapsed": false
   },
   "outputs": [
    {
     "data": {
      "text/plain": [
       "'0xe10'"
      ]
     },
     "execution_count": 168,
     "metadata": {},
     "output_type": "execute_result"
    }
   ],
   "source": [
    "hex(3600)"
   ]
  },
  {
   "cell_type": "code",
   "execution_count": 180,
   "metadata": {
    "collapsed": false
   },
   "outputs": [
    {
     "data": {
      "text/plain": [
       "16"
      ]
     },
     "execution_count": 180,
     "metadata": {},
     "output_type": "execute_result"
    }
   ],
   "source": [
    "mybin=bin(3600)\n",
    "int(mybin[-8:],2)"
   ]
  },
  {
   "cell_type": "code",
   "execution_count": 193,
   "metadata": {
    "collapsed": false
   },
   "outputs": [
    {
     "data": {
      "text/plain": [
       "14"
      ]
     },
     "execution_count": 193,
     "metadata": {},
     "output_type": "execute_result"
    }
   ],
   "source": [
    "int(mybin[2:-8],2)"
   ]
  },
  {
   "cell_type": "code",
   "execution_count": 187,
   "metadata": {
    "collapsed": false
   },
   "outputs": [
    {
     "data": {
      "text/plain": [
       "'00010000'"
      ]
     },
     "execution_count": 187,
     "metadata": {},
     "output_type": "execute_result"
    }
   ],
   "source": [
    "mybin[-8:]"
   ]
  },
  {
   "cell_type": "code",
   "execution_count": 189,
   "metadata": {
    "collapsed": false
   },
   "outputs": [
    {
     "data": {
      "text/plain": [
       "'1110'"
      ]
     },
     "execution_count": 189,
     "metadata": {},
     "output_type": "execute_result"
    }
   ],
   "source": [
    "mybin[2:-8]"
   ]
  },
  {
   "cell_type": "code",
   "execution_count": 190,
   "metadata": {
    "collapsed": false
   },
   "outputs": [
    {
     "data": {
      "text/plain": [
       "'\\x10'"
      ]
     },
     "execution_count": 190,
     "metadata": {},
     "output_type": "execute_result"
    }
   ],
   "source": [
    "binascii.unhexlify('%x' % int(mybin[-8:],2))"
   ]
  },
  {
   "cell_type": "code",
   "execution_count": 194,
   "metadata": {
    "collapsed": false
   },
   "outputs": [
    {
     "ename": "TypeError",
     "evalue": "Odd-length string",
     "output_type": "error",
     "traceback": [
      "\u001b[1;31m---------------------------------------------------------------------------\u001b[0m",
      "\u001b[1;31mTypeError\u001b[0m                                 Traceback (most recent call last)",
      "\u001b[1;32m<ipython-input-194-24e90a8aeb72>\u001b[0m in \u001b[0;36m<module>\u001b[1;34m()\u001b[0m\n\u001b[1;32m----> 1\u001b[1;33m \u001b[0mbinascii\u001b[0m\u001b[1;33m.\u001b[0m\u001b[0munhexlify\u001b[0m\u001b[1;33m(\u001b[0m\u001b[1;34m'%x'\u001b[0m \u001b[1;33m%\u001b[0m \u001b[0mint\u001b[0m\u001b[1;33m(\u001b[0m\u001b[0mmybin\u001b[0m\u001b[1;33m[\u001b[0m\u001b[1;36m2\u001b[0m\u001b[1;33m:\u001b[0m\u001b[1;33m-\u001b[0m\u001b[1;36m8\u001b[0m\u001b[1;33m]\u001b[0m\u001b[1;33m,\u001b[0m\u001b[1;36m2\u001b[0m\u001b[1;33m)\u001b[0m\u001b[1;33m)\u001b[0m\u001b[1;33m\u001b[0m\u001b[0m\n\u001b[0m",
      "\u001b[1;31mTypeError\u001b[0m: Odd-length string"
     ]
    }
   ],
   "source": [
    "binascii.unhexlify('%x' % int(mybin[2:-8],2))"
   ]
  },
  {
   "cell_type": "code",
   "execution_count": 199,
   "metadata": {
    "collapsed": false
   },
   "outputs": [
    {
     "data": {
      "text/plain": [
       "'10'"
      ]
     },
     "execution_count": 199,
     "metadata": {},
     "output_type": "execute_result"
    }
   ],
   "source": [
    "'%x' % 16"
   ]
  },
  {
   "cell_type": "code",
   "execution_count": 197,
   "metadata": {
    "collapsed": false
   },
   "outputs": [
    {
     "data": {
      "text/plain": [
       "14"
      ]
     },
     "execution_count": 197,
     "metadata": {},
     "output_type": "execute_result"
    }
   ],
   "source": [
    "int(mybin[2:-8],2)"
   ]
  },
  {
   "cell_type": "code",
   "execution_count": 198,
   "metadata": {
    "collapsed": false
   },
   "outputs": [
    {
     "ename": "TypeError",
     "evalue": "Odd-length string",
     "output_type": "error",
     "traceback": [
      "\u001b[1;31m---------------------------------------------------------------------------\u001b[0m",
      "\u001b[1;31mTypeError\u001b[0m                                 Traceback (most recent call last)",
      "\u001b[1;32m<ipython-input-198-b5806958db87>\u001b[0m in \u001b[0;36m<module>\u001b[1;34m()\u001b[0m\n\u001b[1;32m----> 1\u001b[1;33m \u001b[0mbinascii\u001b[0m\u001b[1;33m.\u001b[0m\u001b[0munhexlify\u001b[0m\u001b[1;33m(\u001b[0m\u001b[1;34m'e'\u001b[0m\u001b[1;33m)\u001b[0m\u001b[1;33m\u001b[0m\u001b[0m\n\u001b[0m",
      "\u001b[1;31mTypeError\u001b[0m: Odd-length string"
     ]
    }
   ],
   "source": [
    "binascii.unhexlify('e')"
   ]
  },
  {
   "cell_type": "code",
   "execution_count": null,
   "metadata": {
    "collapsed": true
   },
   "outputs": [],
   "source": []
  },
  {
   "cell_type": "code",
   "execution_count": null,
   "metadata": {
    "collapsed": true
   },
   "outputs": [],
   "source": []
  },
  {
   "cell_type": "code",
   "execution_count": null,
   "metadata": {
    "collapsed": true
   },
   "outputs": [],
   "source": [
    ">>> n = int('0b110100001100101011011000110110001101111', 2)\n",
    ">>> binascii.unhexlify('%x' % n)\n",
    "'hello'"
   ]
  },
  {
   "cell_type": "code",
   "execution_count": 154,
   "metadata": {
    "collapsed": false
   },
   "outputs": [
    {
     "data": {
      "text/plain": [
       "'0b111000010000'"
      ]
     },
     "execution_count": 154,
     "metadata": {},
     "output_type": "execute_result"
    }
   ],
   "source": [
    "bin(3600)"
   ]
  },
  {
   "cell_type": "code",
   "execution_count": 147,
   "metadata": {
    "collapsed": false
   },
   "outputs": [
    {
     "ename": "TypeError",
     "evalue": "hex() argument can't be converted to hex",
     "output_type": "error",
     "traceback": [
      "\u001b[1;31m---------------------------------------------------------------------------\u001b[0m",
      "\u001b[1;31mTypeError\u001b[0m                                 Traceback (most recent call last)",
      "\u001b[1;32m<ipython-input-147-c07c07fa6ca2>\u001b[0m in \u001b[0;36m<module>\u001b[1;34m()\u001b[0m\n\u001b[1;32m----> 1\u001b[1;33m \u001b[0mhex\u001b[0m\u001b[1;33m(\u001b[0m\u001b[1;34m'010000'\u001b[0m\u001b[1;33m)\u001b[0m\u001b[1;33m\u001b[0m\u001b[0m\n\u001b[0m",
      "\u001b[1;31mTypeError\u001b[0m: hex() argument can't be converted to hex"
     ]
    }
   ],
   "source": [
    "hex(010000)"
   ]
  },
  {
   "cell_type": "code",
   "execution_count": 162,
   "metadata": {
    "collapsed": true
   },
   "outputs": [],
   "source": [
    "n=int(bin(32), 2)"
   ]
  },
  {
   "cell_type": "code",
   "execution_count": 163,
   "metadata": {
    "collapsed": false
   },
   "outputs": [
    {
     "data": {
      "text/plain": [
       "' '"
      ]
     },
     "execution_count": 163,
     "metadata": {},
     "output_type": "execute_result"
    }
   ],
   "source": [
    "binascii.unhexlify('%x' %n)"
   ]
  },
  {
   "cell_type": "code",
   "execution_count": 155,
   "metadata": {
    "collapsed": false
   },
   "outputs": [
    {
     "data": {
      "text/plain": [
       "3600"
      ]
     },
     "execution_count": 155,
     "metadata": {},
     "output_type": "execute_result"
    }
   ],
   "source": [
    "int(bin(3600), 2)"
   ]
  },
  {
   "cell_type": "code",
   "execution_count": 19,
   "metadata": {
    "collapsed": true
   },
   "outputs": [],
   "source": [
    "import numpy as np\n",
    "import matplotlib.pyplot as plt"
   ]
  },
  {
   "cell_type": "code",
   "execution_count": 23,
   "metadata": {
    "collapsed": true
   },
   "outputs": [],
   "source": [
    "%matplotlib inline"
   ]
  },
  {
   "cell_type": "code",
   "execution_count": 93,
   "metadata": {
    "collapsed": true
   },
   "outputs": [],
   "source": [
    "eloff=4.*np.pi/180"
   ]
  },
  {
   "cell_type": "code",
   "execution_count": 94,
   "metadata": {
    "collapsed": false
   },
   "outputs": [],
   "source": [
    "el=np.linspace(0,np.pi/2,10000)"
   ]
  },
  {
   "cell_type": "code",
   "execution_count": 95,
   "metadata": {
    "collapsed": false
   },
   "outputs": [
    {
     "name": "stderr",
     "output_type": "stream",
     "text": [
      "/usr/local/lib/python2.7/dist-packages/ipykernel/__main__.py:1: RuntimeWarning: invalid value encountered in arcsin\n",
      "  if __name__ == '__main__':\n"
     ]
    }
   ],
   "source": [
    "omega=np.arcsin(np.sin(el)/np.cos(eloff))"
   ]
  },
  {
   "cell_type": "code",
   "execution_count": 96,
   "metadata": {
    "collapsed": false
   },
   "outputs": [
    {
     "data": {
      "text/plain": [
       "[<matplotlib.lines.Line2D at 0x7fd8ba539590>]"
      ]
     },
     "execution_count": 96,
     "metadata": {},
     "output_type": "execute_result"
    },
    {
     "data": {
      "image/png": "[encoded data removed]",
      "text/plain": [
       "<matplotlib.figure.Figure at 0x7fd8ba5bd810>"
      ]
     },
     "metadata": {},
     "output_type": "display_data"
    }
   ],
   "source": [
    "plt.plot(el*180/np.pi,omega*180/np.pi)"
   ]
  },
  {
   "cell_type": "code",
   "execution_count": 97,
   "metadata": {
    "collapsed": false
   },
   "outputs": [
    {
     "name": "stdout",
     "output_type": "stream",
     "text": [
      "85.99\n"
     ]
    }
   ],
   "source": [
    "elmax=np.max(el[np.isfinite(omega)])*180/np.pi\n",
    "print np.around(elmax,2) # unsurprisingly, it's 90-phoff"
   ]
  },
  {
   "cell_type": "code",
   "execution_count": 99,
   "metadata": {
    "collapsed": true
   },
   "outputs": [],
   "source": [
    "el=el[np.isfinite(omega)]\n",
    "omega=omega[np.isfinite(omega)]\n"
   ]
  },
  {
   "cell_type": "code",
   "execution_count": 100,
   "metadata": {
    "collapsed": false
   },
   "outputs": [],
   "source": [
    "azcor=-np.arctan2(np.cos(omega),np.sin(omega)*np.sin(eloff))*180/np.pi"
   ]
  },
  {
   "cell_type": "code",
   "execution_count": null,
   "metadata": {
    "collapsed": true
   },
   "outputs": [],
   "source": [
    "def "
   ]
  },
  {
   "cell_type": "code",
   "execution_count": 120,
   "metadata": {
    "collapsed": false,
    "scrolled": true
   },
   "outputs": [
    {
     "data": {
      "text/plain": [
       "<matplotlib.text.Text at 0x7fd8b977a750>"
      ]
     },
     "execution_count": 120,
     "metadata": {},
     "output_type": "execute_result"
    },
    {
     "data": {
      "image/png": "[encoded data removed]",
      "text/plain": [
       "<matplotlib.figure.Figure at 0x7fd8b9760950>"
      ]
     },
     "metadata": {},
     "output_type": "display_data"
    }
   ],
   "source": [
    "lowerang=360-azcor-360\n",
    "upperang=180-azcor\n",
    "plt.plot(el*180/np.pi,lowerang)\n",
    "plt.plot(el*180/np.pi,upperang)\n",
    "plt.fill_between(el*180/np.pi,lowerang, upperang, color='grey', alpha='0.5')\n",
    "plt.ylim(0,360)\n",
    "plt.xlabel(\"Elevation\")\n",
    "plt.ylabel(\"Azimuth\")"
   ]
  },
  {
   "cell_type": "code",
   "execution_count": 121,
   "metadata": {
    "collapsed": false
   },
   "outputs": [
    {
     "data": {
      "text/plain": [
       "[<matplotlib.lines.Line2D at 0x7fd8b9452510>]"
      ]
     },
     "execution_count": 121,
     "metadata": {},
     "output_type": "execute_result"
    },
    {
     "data": {
      "image/png": "[encoded data removed]",
      "text/plain": [
       "<matplotlib.figure.Figure at 0x7fd8b9757a90>"
      ]
     },
     "metadata": {},
     "output_type": "display_data"
    }
   ],
   "source": [
    "plt.plot(el*180/np.pi,azcor)"
   ]
  },
  {
   "cell_type": "code",
   "execution_count": 122,
   "metadata": {
    "collapsed": true
   },
   "outputs": [],
   "source": [
    "elex=70"
   ]
  },
  {
   "cell_type": "code",
   "execution_count": 123,
   "metadata": {
    "collapsed": true
   },
   "outputs": [],
   "source": [
    "azex=150"
   ]
  },
  {
   "cell_type": "code",
   "execution_count": null,
   "metadata": {
    "collapsed": true
   },
   "outputs": [],
   "source": []
  },
  {
   "cell_type": "code",
   "execution_count": null,
   "metadata": {
    "collapsed": true
   },
   "outputs": [],
   "source": []
  },
  {
   "cell_type": "code",
   "execution_count": null,
   "metadata": {
    "collapsed": true
   },
   "outputs": [],
   "source": []
  }
 ],
 "metadata": {
  "kernelspec": {
   "display_name": "Python 2",
   "language": "python",
   "name": "python2"
  },
  "language_info": {
   "codemirror_mode": {
    "name": "ipython",
    "version": 2
   },
   "file_extension": ".py",
   "mimetype": "text/x-python",
   "name": "python",
   "nbconvert_exporter": "python",
   "pygments_lexer": "ipython2",
   "version": "2.7.6"
  }
 },
 "nbformat": 4,
 "nbformat_minor": 0
}
