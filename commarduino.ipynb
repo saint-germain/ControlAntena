{
 "cells": [
  {
   "cell_type": "code",
   "execution_count": 1,
   "metadata": {
    "collapsed": true
   },
   "outputs": [],
   "source": [
    "import serial\n",
    "from time import sleep\n",
    "import numpy as np\n",
    "from astropy import units as u\n",
    "from astropy.time import Time\n",
    "from astropy.coordinates import SkyCoord, EarthLocation, AltAz"
   ]
  },
  {
   "cell_type": "code",
   "execution_count": 3,
   "metadata": {
    "collapsed": true
   },
   "outputs": [],
   "source": [
    "def a2s(arr):\n",
    "    \"\"\" Array of integer byte values --> binary string\n",
    "    \"\"\"\n",
    "    return ''.join(chr(b) for b in arr)"
   ]
  },
  {
   "cell_type": "code",
   "execution_count": 3,
   "metadata": {
    "collapsed": true
   },
   "outputs": [],
   "source": [
    "try:\n",
    "    ser = serial.Serial('/dev/ttyACM0', 9600) # Establish the connection on a specific port\n",
    "except:\n",
    "    ser = serial.Serial('/dev/ttyACM1', 9600) # Establish the connection on a specific port"
   ]
  },
  {
   "cell_type": "code",
   "execution_count": 2,
   "metadata": {
    "collapsed": true
   },
   "outputs": [],
   "source": [
    "ser = serial.Serial('/dev/cu.usbmodem1421', 9600)"
   ]
  },
  {
   "cell_type": "code",
   "execution_count": 4,
   "metadata": {
    "collapsed": true
   },
   "outputs": [],
   "source": [
    "def commarduino(ser,azim,elev):\n",
    "    # this azim must be already elevation offset-corrected\n",
    "    azbin=bin(azim*10) # arduino serial receives a 16 bit int, so we have 1 decimal precision if multiplied by 10\n",
    "    azpadn=16-len(azbin[2:])\n",
    "    azbin='0b'+azpadn*'0'+azbin[2:]\n",
    "    altbin=bin(elev*10) # arduino serial receives a 16 bit int, so we have 1 decimal precision if multiplied by 10\n",
    "    altpadn=16-len(altbin[2:])\n",
    "    altbin='0b'+altpadn*'0'+altbin[2:]\n",
    "    # split each coordinate's 16 bit int into two 8 bit ints\n",
    "    # is reconstituted in the arduino\n",
    "    ser.write(a2s([int(azbin[2:-8],2),int(azbin[-8:],2),int(altbin[2:-8],2),int(altbin[-8:],2)]))\n",
    "#    sleep(15)"
   ]
  },
  {
   "cell_type": "code",
   "execution_count": 5,
   "metadata": {
    "collapsed": false
   },
   "outputs": [
    {
     "data": {
      "text/plain": [
       "Serial<id=0x110b4f7d0, open=True>(port='/dev/cu.usbmodem1421', baudrate=9600, bytesize=8, parity='N', stopbits=1, timeout=None, xonxoff=False, rtscts=False, dsrdtr=False)"
      ]
     },
     "execution_count": 5,
     "metadata": {},
     "output_type": "execute_result"
    }
   ],
   "source": [
    "ser"
   ]
  },
  {
   "cell_type": "code",
   "execution_count": 6,
   "metadata": {
    "collapsed": true
   },
   "outputs": [],
   "source": [
    "def readarduino(ser):\n",
    "    did=True\n",
    "    while ser.inWaiting():\n",
    "        if did and ser.inWaiting() < 490:\n",
    "            for i in range(6):\n",
    "            #print ser.readline()[0:50]\n",
    "                print ser.readline()[0:60]\n",
    "            did = False\n",
    "        ser.readline()    "
   ]
  },
  {
   "cell_type": "code",
   "execution_count": 7,
   "metadata": {
    "collapsed": true
   },
   "outputs": [],
   "source": [
    "def readard(ser):\n",
    "    if ser.inWaiting() > 500:\n",
    "        readarduino(ser)\n",
    "    else:\n",
    "        sleep(5)\n",
    "        readarduino(ser)"
   ]
  },
  {
   "cell_type": "code",
   "execution_count": 9,
   "metadata": {
    "collapsed": false
   },
   "outputs": [
    {
     "name": "stdout",
     "output_type": "stream",
     "text": [
      "Az should be lower than 3600 and Alt should be lower than 90\n",
      "Stopping the telescope now. Waiting for new coordinates.\r\n",
      "\n",
      "0\t0\t0\t0\t4000\t1000\troll: 0    pitch: 0    angle full: 146.9  \n",
      "Angles from computer are inconsistent.\r\n",
      "\n",
      "Az should be lower than 3600 and Alt should be lower than 90\n",
      "Stopping the telescope now. Waiting for new coordinates.\r\n",
      "\n"
     ]
    }
   ],
   "source": [
    "readard(ser)"
   ]
  },
  {
   "cell_type": "code",
   "execution_count": 8,
   "metadata": {
    "collapsed": false
   },
   "outputs": [],
   "source": [
    "def commwrap(ser,azim,elev):\n",
    "    print \"************\"\n",
    "    print \"Before write\"\n",
    "    print \"************\"\n",
    "    readard(ser)\n",
    "    for i in range(2):\n",
    "        commarduino(ser,azim,elev)\n",
    "        sleep(5)\n",
    "    print \"***********\"\n",
    "    print \"After write\"\n",
    "    print \"***********\"\n",
    "    readard(ser)"
   ]
  },
  {
   "cell_type": "code",
   "execution_count": 26,
   "metadata": {
    "collapsed": false
   },
   "outputs": [
    {
     "name": "stdout",
     "output_type": "stream",
     "text": [
      "************\n",
      "Before write\n",
      "************\n",
      "9\t36\t1\t244\t2340\t500\troll: 0    pitch: -2    angle full: 142.\n",
      "9\t36\t1\t244\t2340\t500\troll: 0    pitch: -2    angle full: 142.\n",
      "9\t36\t1\t244\t2340\t500\troll: 0    pitch: -2    angle full: 142.\n",
      "9\t36\t1\t244\t2340\t500\troll: 0    pitch: -2    angle full: 142.\n",
      "9\t36\t1\t244\t2340\t500\troll: 0    pitch: -2    angle full: 142.\n",
      "9\t36\t1\t244\t2340\t500\troll: 0    pitch: -2    angle full: 142.\n",
      "***********\n",
      "After write\n",
      "***********\n",
      "14\t26\t0\t90\t3610\t90\troll: 0    pitch: -2    angle full: 142.6\n",
      "Angles from computer are inconsistent.\n",
      "\n",
      "Az should be lower than 3600 and Alt should be lower than 90\n",
      "Stopping the telescope now. Waiting for new coordinates.\n",
      "\n",
      "14\t26\t0\t90\t3610\t90\troll: 0    pitch: -2    angle full: 142.7\n",
      "Angles from computer are inconsistent.\n",
      "\n"
     ]
    }
   ],
   "source": [
    "commwrap(ser,361,9)"
   ]
  },
  {
   "cell_type": "code",
   "execution_count": 10,
   "metadata": {
    "collapsed": true
   },
   "outputs": [],
   "source": [
    "# azimuth correction due to pitch offset\n",
    "def az_corr(eloff,el):\n",
    "    el=el*np.pi/180\n",
    "    eloff=eloff*np.pi/180\n",
    "    omega=np.arcsin(np.sin(el)/np.cos(eloff))\n",
    "    return -np.arctan2(np.cos(omega),np.sin(omega)*np.sin(eloff))*180/np.pi"
   ]
  },
  {
   "cell_type": "code",
   "execution_count": 11,
   "metadata": {
    "collapsed": true
   },
   "outputs": [],
   "source": [
    "eloff=4 ## offset, should be measured via pitch"
   ]
  },
  {
   "cell_type": "code",
   "execution_count": 12,
   "metadata": {
    "collapsed": false
   },
   "outputs": [],
   "source": [
    "# this block sets the availability of az for each el\n",
    "azlimlo=360 # this should me measured (max az range for the antenna mount)\n",
    "azlimup=180 # this should me measured (min az range for the antenna mount)\n",
    "el=np.linspace(0,90-eloff,90-eloff+1)*np.pi/180\n",
    "omega=np.arcsin(np.sin(el)/np.cos(eloff*np.pi/180))\n",
    "azcor=-np.arctan2(np.cos(omega),np.sin(omega)*np.sin(eloff*np.pi/180))*180/np.pi\n",
    "lowerang=azlimlo-azcor-360\n",
    "upperang=azlimup-azcor"
   ]
  },
  {
   "cell_type": "code",
   "execution_count": 13,
   "metadata": {
    "collapsed": false,
    "scrolled": false
   },
   "outputs": [
    {
     "name": "stdout",
     "output_type": "stream",
     "text": [
      "****************************\n",
      "New coordinates from script:\n",
      "****************************\n",
      "2016-11-18 15:22:45.683972  Azimuth =  214 Elevation =  48\n",
      "Setting the telescope to Az = 214 and El = 48\n",
      "Corrected azimuth =  300\n",
      "************\n",
      "Before write\n",
      "************\n",
      "0\t0\t0\t0\t4000\t1000\troll: 0    pitch: 0    angle full: 147.0  \n",
      "Angles from computer are inconsistent.\n",
      "\n",
      "Az should be lower than 3600 and Alt should be lower than 90\n",
      "Stopping the telescope now. Waiting for new coordinates.\n",
      "\n",
      "0\t0\t0\t0\t4000\t1000\troll: 0    pitch: 0    angle full: 147.1  \n",
      "Angles from computer are inconsistent.\n",
      "\n",
      "***********\n",
      "After write\n",
      "***********\n",
      "11\t184\t1\t224\t3000\t480\troll: 0    pitch: 0    angle full: 147\n",
      "11\t184\t1\t224\t3000\t480\troll: 0    pitch: 0    angle full: 147\n",
      "11\t184\t1\t224\t3000\t480\troll: 0    pitch: 0    angle full: 146\n",
      "11\t184\t1\t224\t3000\t480\troll: 0    pitch: 0    angle full: 147\n",
      "11\t184\t1\t224\t3000\t480\troll: 0    pitch: 0    angle full: 147\n",
      "11\t184\t1\t224\t3000\t480\troll: 0    pitch: 0    angle full: 147\n",
      " \n",
      "****************************\n",
      "New coordinates from script:\n",
      "****************************\n",
      "2016-11-18 15:23:27.284076  Azimuth =  214 Elevation =  48\n",
      "Setting the telescope to Az = 214 and El = 48\n",
      "Corrected azimuth =  300\n",
      "************\n",
      "Before write\n",
      "************\n",
      "11\t184\t1\t224\t3000\t480\troll: 0    pitch: 0    angle full: 242\n",
      "11\t184\t1\t224\t3000\t480\troll: 0    pitch: 0    angle full: 202\n",
      "11\t184\t1\t224\t3000\t480\troll: 0    pitch: 0    angle full: 164\n",
      "11\t184\t1\t224\t3000\t480\troll: 0    pitch: 0    angle full: 143\n",
      "11\t184\t1\t224\t3000\t480\troll: 0    pitch: 0    angle full: 135\n",
      "11\t184\t1\t224\t3000\t480\troll: 0    pitch: 0    angle full: 134\n",
      "***********\n",
      "After write\n",
      "***********\n",
      "11\t184\t1\t224\t3000\t480\troll: 0    pitch: 0    angle full: 139\n",
      "11\t184\t1\t224\t3000\t480\troll: 0    pitch: 0    angle full: 139\n",
      "11\t184\t1\t224\t3000\t480\troll: 0    pitch: 0    angle full: 140\n",
      "11\t184\t1\t224\t3000\t480\troll: 0    pitch: 0    angle full: 140\n",
      "11\t184\t1\t224\t3000\t480\troll: 0    pitch: 0    angle full: 140\n",
      "11\t184\t1\t224\t3000\t480\troll: 0    pitch: 0    angle full: 141\n",
      " \n",
      "****************************\n",
      "New coordinates from script:\n",
      "****************************\n",
      "2016-11-18 15:24:07.565466  Azimuth =  215 Elevation =  48\n",
      "Setting the telescope to Az = 215 and El = 48\n",
      "Corrected azimuth =  301\n",
      "************\n",
      "Before write\n",
      "************\n",
      "11\t184\t1\t224\t3000\t480\troll: 0    pitch: 0    angle full: 144\n",
      "11\t184\t1\t224\t3000\t480\troll: 0    pitch: 0    angle full: 144\n",
      "11\t184\t1\t224\t3000\t480\troll: 0    pitch: 0    angle full: 144\n",
      "11\t184\t1\t224\t3000\t480\troll: 0    pitch: 0    angle full: 144\n",
      "11\t184\t1\t224\t3000\t480\troll: 0    pitch: 0    angle full: 144\n",
      "11\t184\t1\t224\t3000\t480\troll: 0    pitch: 0    angle full: 144\n",
      "***********\n",
      "After write\n",
      "***********\n",
      "1\t224\t255\t255\t3010\t480\troll: 0    pitch: 0    angle full: 14\n",
      "1\t224\t255\t255\t3010\t480\troll: 0    pitch: 0    angle full: 14\n",
      "1\t224\t255\t255\t3010\t480\troll: 0    pitch: 0    angle full: 14\n",
      "1\t224\t255\t255\t3010\t480\troll: 0    pitch: 0    angle full: 14\n",
      "1\t224\t255\t255\t3010\t480\troll: 0    pitch: 0    angle full: 14\n",
      "1\t224\t255\t255\t3010\t480\troll: 0    pitch: 0    angle full: 14\n",
      " \n",
      "****************************\n",
      "New coordinates from script:\n",
      "****************************\n",
      "2016-11-18 15:24:47.930307  Azimuth =  215 Elevation =  48\n",
      "Setting the telescope to Az = 215 and El = 48\n",
      "Corrected azimuth =  301\n",
      "************\n",
      "Before write\n",
      "************\n",
      "1\t224\t255\t255\t3010\t480\troll: 0    pitch: 0    angle full: 14\n",
      "1\t224\t255\t255\t3010\t480\troll: 0    pitch: 0    angle full: 14\n",
      "1\t224\t255\t255\t3010\t480\troll: 0    pitch: 0    angle full: 14\n",
      "1\t224\t255\t255\t3010\t480\troll: 0    pitch: 0    angle full: 14\n",
      "1\t224\t255\t255\t3010\t480\troll: 0    pitch: 0    angle full: 14\n",
      "1\t224\t255\t255\t3010\t480\troll: 0    pitch: 0    angle full: 14\n",
      "***********\n",
      "After write\n",
      "***********\n",
      "11\t194\t1\t224\t3010\t480\troll: 0    pitch: 0    angle full: 143\n",
      "11\t194\t1\t224\t3010\t480\troll: 0    pitch: 0    angle full: 143\n",
      "11\t194\t1\t224\t3010\t480\troll: 0    pitch: 0    angle full: 143\n",
      "11\t194\t1\t224\t3010\t480\troll: 0    pitch: 0    angle full: 143\n",
      "11\t194\t1\t224\t3010\t480\troll: 0    pitch: 0    angle full: 143\n",
      "11\t194\t1\t224\t3010\t480\troll: 0    pitch: 0    angle full: 143\n",
      " \n",
      "****************************\n",
      "New coordinates from script:\n",
      "****************************\n",
      "2016-11-18 15:25:28.276402  Azimuth =  215 Elevation =  48\n",
      "Setting the telescope to Az = 215 and El = 48\n",
      "Corrected azimuth =  301\n",
      "************\n",
      "Before write\n",
      "************\n",
      "11\t194\t1\t224\t3010\t480\troll: 0    pitch: 0    angle full: 143\n",
      "11\t194\t1\t224\t3010\t480\troll: 0    pitch: 0    angle full: 143\n",
      "11\t194\t1\t224\t3010\t480\troll: 0    pitch: 0    angle full: 143\n",
      "11\t194\t1\t224\t3010\t480\troll: 0    pitch: 0    angle full: 143\n",
      "11\t194\t1\t224\t3010\t480\troll: 0    pitch: 0    angle full: 144\n",
      "11\t194\t1\t224\t3010\t480\troll: 0    pitch: 0    angle full: 144\n",
      "***********\n",
      "After write\n",
      "***********\n",
      "11\t194\t1\t224\t3010\t480\troll: 0    pitch: 0    angle full: 144\n",
      "11\t194\t1\t224\t3010\t480\troll: 0    pitch: 0    angle full: 144\n",
      "11\t194\t1\t224\t3010\t480\troll: 0    pitch: 0    angle full: 144\n",
      "11\t194\t1\t224\t3010\t480\troll: 0    pitch: 0    angle full: 144\n",
      "11\t194\t1\t224\t3010\t480\troll: 0    pitch: 0    angle full: 145\n",
      "11\t194\t1\t224\t3010\t480\troll: 0    pitch: 0    angle full: 147\n",
      " \n",
      "****************************\n",
      "New coordinates from script:\n",
      "****************************\n",
      "2016-11-18 15:26:08.555750  Azimuth =  215 Elevation =  48\n",
      "Setting the telescope to Az = 215 and El = 48\n",
      "Corrected azimuth =  301\n",
      "************\n",
      "Before write\n",
      "************\n",
      "11\t194\t1\t224\t3010\t480\troll: 0    pitch: 0    angle full: 143\n",
      "11\t194\t1\t224\t3010\t480\troll: 0    pitch: 0    angle full: 143\n",
      "11\t194\t1\t224\t3010\t480\troll: 0    pitch: 0    angle full: 143\n",
      "11\t194\t1\t224\t3010\t480\troll: 0    pitch: 0    angle full: 143\n",
      "11\t194\t1\t224\t3010\t480\troll: 0    pitch: 0    angle full: 143\n",
      "11\t194\t1\t224\t3010\t480\troll: 0    pitch: 0    angle full: 143\n",
      "***********\n",
      "After write\n",
      "***********\n",
      "11\t194\t1\t224\t3010\t480\troll: 0    pitch: 0    angle full: 143\n",
      "11\t194\t1\t224\t3010\t480\troll: 0    pitch: 0    angle full: 143\n",
      "11\t194\t1\t224\t3010\t480\troll: 0    pitch: 0    angle full: 143\n",
      "11\t194\t1\t224\t3010\t480\troll: 0    pitch: 0    angle full: 143\n",
      "11\t194\t1\t224\t3010\t480\troll: 0    pitch: 0    angle full: 143\n",
      "11\t194\t1\t224\t3010\t480\troll: 0    pitch: 0    angle full: 143\n",
      " \n",
      "****************************\n",
      "New coordinates from script:\n",
      "****************************\n",
      "2016-11-18 15:26:48.876123  Azimuth =  215 Elevation =  48\n",
      "Setting the telescope to Az = 215 and El = 48\n",
      "Corrected azimuth =  301\n",
      "************\n",
      "Before write\n",
      "************\n",
      "11\t194\t1\t224\t3010\t480\troll: 0    pitch: 0    angle full: 146\n",
      "11\t194\t1\t224\t3010\t480\troll: 0    pitch: 0    angle full: 145\n",
      "11\t194\t1\t224\t3010\t480\troll: 0    pitch: 0    angle full: 145\n",
      "11\t194\t1\t224\t3010\t480\troll: 0    pitch: 0    angle full: 144\n",
      "11\t194\t1\t224\t3010\t480\troll: 0    pitch: 0    angle full: 144\n",
      "11\t194\t1\t224\t3010\t480\troll: 0    pitch: 0    angle full: 144\n",
      "***********\n",
      "After write\n",
      "***********\n",
      "11\t194\t1\t224\t3010\t480\troll: 0    pitch: 0    angle full: 143\n",
      "11\t194\t1\t224\t3010\t480\troll: 0    pitch: 0    angle full: 143\n",
      "11\t194\t1\t224\t3010\t480\troll: 0    pitch: 0    angle full: 143\n",
      "11\t194\t1\t224\t3010\t480\troll: 0    pitch: 0    angle full: 143\n",
      "11\t194\t1\t224\t3010\t480\troll: 0    pitch: 0    angle full: 143\n",
      "11\t194\t1\t224\t3010\t480\troll: 0    pitch: 0    angle full: 143\n",
      " \n",
      "****************************\n",
      "New coordinates from script:\n",
      "****************************\n",
      "2016-11-18 15:27:29.168705  Azimuth =  215 Elevation =  48\n",
      "Setting the telescope to Az = 215 and El = 48\n",
      "Corrected azimuth =  301\n",
      "************\n",
      "Before write\n",
      "************\n",
      "11\t194\t1\t224\t3010\t480\troll: 0    pitch: 0    angle full: 143\n",
      "11\t194\t1\t224\t3010\t480\troll: 0    pitch: 0    angle full: 143\n",
      "11\t194\t1\t224\t3010\t480\troll: 0    pitch: 0    angle full: 143\n",
      "11\t194\t1\t224\t3010\t480\troll: 0    pitch: 0    angle full: 143\n",
      "11\t194\t1\t224\t3010\t480\troll: 0    pitch: 0    angle full: 143\n",
      "11\t194\t1\t224\t3010\t480\troll: 0    pitch: 0    angle full: 143\n",
      "***********\n",
      "After write\n",
      "***********\n",
      "11\t194\t1\t224\t3010\t480\troll: 0    pitch: 0    angle full: 147\n",
      "11\t194\t1\t224\t3010\t480\troll: 0    pitch: 0    angle full: 147\n",
      "11\t194\t1\t224\t3010\t480\troll: 0    pitch: 0    angle full: 147\n",
      "11\t194\t1\t224\t3010\t480\troll: 0    pitch: 0    angle full: 147\n",
      "11\t194\t1\t224\t3010\t480\troll: 0    pitch: 0    angle full: 147\n",
      "11\t194\t1\t224\t3010\t480\troll: 0    pitch: 0    angle full: 147\n",
      " \n",
      "****************************\n",
      "New coordinates from script:\n",
      "****************************\n",
      "2016-11-18 15:28:09.492972  Azimuth =  216 Elevation =  48\n",
      "Setting the telescope to Az = 216 and El = 48\n",
      "Corrected azimuth =  302\n",
      "************\n",
      "Before write\n",
      "************\n",
      "11\t194\t1\t224\t3010\t480\troll: 0    pitch: 0    angle full: 147\n",
      "11\t194\t1\t224\t3010\t480\troll: 0    pitch: 0    angle full: 147\n",
      "11\t194\t1\t224\t3010\t480\troll: 0    pitch: 0    angle full: 147\n",
      "11\t194\t1\t224\t3010\t480\troll: 0    pitch: 0    angle full: 147\n",
      "11\t194\t1\t224\t3010\t480\troll: 0    pitch: 0    angle full: 147\n",
      "11\t194\t1\t224\t3010\t480\troll: 0    pitch: 0    angle full: 147\n",
      "***********\n",
      "After write\n",
      "***********\n",
      "11\t204\t1\t224\t3020\t480\troll: 0    pitch: 0    angle full: 147\n",
      "11\t204\t1\t224\t3020\t480\troll: 0    pitch: 0    angle full: 147\n",
      "11\t204\t1\t224\t3020\t480\troll: 0    pitch: 0    angle full: 147\n",
      "11\t204\t1\t224\t3020\t480\troll: 0    pitch: 0    angle full: 147\n",
      "11\t204\t1\t224\t3020\t480\troll: 0    pitch: 0    angle full: 147\n",
      "11\t204\t1\t224\t3020\t480\troll: 0    pitch: 0    angle full: 147\n",
      " \n",
      "****************************\n",
      "New coordinates from script:\n",
      "****************************\n",
      "2016-11-18 15:28:49.777353  Azimuth =  216 Elevation =  48\n",
      "Setting the telescope to Az = 216 and El = 48\n",
      "Corrected azimuth =  302\n",
      "************\n",
      "Before write\n",
      "************\n",
      "11\t204\t1\t224\t3020\t480\troll: 0    pitch: 0    angle full: 145\n",
      "11\t204\t1\t224\t3020\t480\troll: 0    pitch: 0    angle full: 145\n",
      "11\t204\t1\t224\t3020\t480\troll: 0    pitch: 0    angle full: 145\n",
      "11\t204\t1\t224\t3020\t480\troll: 0    pitch: 0    angle full: 145\n",
      "11\t204\t1\t224\t3020\t480\troll: 0    pitch: 0    angle full: 146\n",
      "11\t204\t1\t224\t3020\t480\troll: 0    pitch: 0    angle full: 146\n",
      "***********\n",
      "After write\n",
      "***********\n",
      "11\t204\t1\t224\t3020\t480\troll: 0    pitch: 0    angle full: 146\n",
      "11\t204\t1\t224\t3020\t480\troll: 0    pitch: 0    angle full: 146\n",
      "11\t204\t1\t224\t3020\t480\troll: 0    pitch: 0    angle full: 146\n",
      "11\t204\t1\t224\t3020\t480\troll: 0    pitch: 0    angle full: 146\n",
      "11\t204\t1\t224\t3020\t480\troll: 0    pitch: 0    angle full: 146\n",
      "11\t204\t1\t224\t3020\t480\troll: 0    pitch: 0    angle full: 146\n",
      " \n",
      "****************************\n",
      "New coordinates from script:\n",
      "****************************\n",
      "2016-11-18 15:29:30.116729  Azimuth =  216 Elevation =  47\n",
      "Setting the telescope to Az = 216 and El = 47\n",
      "Corrected azimuth =  302\n",
      "************\n",
      "Before write\n",
      "************\n",
      "11\t204\t1\t224\t3020\t480\troll: 0    pitch: 0    angle full: 147\n",
      "11\t204\t1\t224\t3020\t480\troll: 0    pitch: 0    angle full: 147\n",
      "11\t204\t1\t224\t3020\t480\troll: 0    pitch: 0    angle full: 147\n",
      "11\t204\t1\t224\t3020\t480\troll: 0    pitch: 0    angle full: 147\n",
      "11\t204\t1\t224\t3020\t480\troll: 0    pitch: 0    angle full: 147\n",
      "11\t204\t1\t224\t3020\t480\troll: 0    pitch: 0    angle full: 147\n",
      "***********\n",
      "After write\n",
      "***********\n",
      "11\t204\t1\t214\t3020\t470\troll: 0    pitch: 0    angle full: 146\n",
      "11\t204\t1\t214\t3020\t470\troll: 0    pitch: 0    angle full: 146\n",
      "11\t204\t1\t214\t3020\t470\troll: 0    pitch: 0    angle full: 146\n",
      "11\t204\t1\t214\t3020\t470\troll: 0    pitch: 0    angle full: 146\n",
      "11\t204\t1\t214\t3020\t470\troll: 0    pitch: 0    angle full: 146\n",
      "11\t204\t1\t214\t3020\t470\troll: 0    pitch: 0    angle full: 146\n",
      " \n",
      "****************************\n",
      "New coordinates from script:\n",
      "****************************\n",
      "2016-11-18 15:30:10.397904  Azimuth =  216 Elevation =  47\n",
      "Setting the telescope to Az = 216 and El = 47\n",
      "Corrected azimuth =  302\n",
      "************\n",
      "Before write\n",
      "************\n",
      "11\t204\t1\t214\t3020\t470\troll: 0    pitch: 0    angle full: 148\n",
      "11\t204\t1\t214\t3020\t470\troll: 0    pitch: 0    angle full: 148\n",
      "11\t204\t1\t214\t3020\t470\troll: 0    pitch: 0    angle full: 148\n",
      "11\t204\t1\t214\t3020\t470\troll: 0    pitch: 0    angle full: 148\n",
      "11\t204\t1\t214\t3020\t470\troll: 0    pitch: 0    angle full: 148\n",
      "11\t204\t1\t214\t3020\t470\troll: 0    pitch: 0    angle full: 148\n",
      "***********\n",
      "After write\n",
      "***********\n",
      "11\t204\t1\t214\t3020\t470\troll: 0    pitch: 0    angle full: 147\n",
      "11\t204\t1\t214\t3020\t470\troll: 0    pitch: 0    angle full: 147\n",
      "11\t204\t1\t214\t3020\t470\troll: 0    pitch: 0    angle full: 147\n",
      "11\t204\t1\t214\t3020\t470\troll: 0    pitch: 0    angle full: 147\n",
      "11\t204\t1\t214\t3020\t470\troll: 0    pitch: 0    angle full: 147\n",
      "11\t204\t1\t214\t3020\t470\troll: 0    pitch: 0    angle full: 147\n",
      " \n",
      "****************************\n",
      "New coordinates from script:\n",
      "****************************\n",
      "2016-11-18 15:30:50.736291  Azimuth =  216 Elevation =  47\n",
      "Setting the telescope to Az = 216 and El = 47\n",
      "Corrected azimuth =  302\n",
      "************\n",
      "Before write\n",
      "************\n",
      "11\t204\t1\t214\t3020\t470\troll: 0    pitch: 0    angle full: 147\n",
      "11\t204\t1\t214\t3020\t470\troll: 0    pitch: 0    angle full: 147\n",
      "11\t204\t1\t214\t3020\t470\troll: 0    pitch: 0    angle full: 147\n",
      "11\t204\t1\t214\t3020\t470\troll: 0    pitch: 0    angle full: 147\n",
      "11\t204\t1\t214\t3020\t470\troll: 0    pitch: 0    angle full: 147\n",
      "11\t204\t1\t214\t3020\t470\troll: 0    pitch: 0    angle full: 147\n",
      "***********\n",
      "After write\n",
      "***********\n",
      "11\t204\t1\t214\t3020\t470\troll: 0    pitch: 0    angle full: 154\n",
      "11\t204\t1\t214\t3020\t470\troll: 0    pitch: 0    angle full: 154\n",
      "11\t204\t1\t214\t3020\t470\troll: 0    pitch: 0    angle full: 155\n",
      "11\t204\t1\t214\t3020\t470\troll: 0    pitch: 0    angle full: 156\n",
      "11\t204\t1\t214\t3020\t470\troll: 0    pitch: 0    angle full: 158\n",
      "11\t204\t1\t214\t3020\t470\troll: 0    pitch: 0    angle full: 160\n",
      " \n",
      "****************************\n",
      "New coordinates from script:\n",
      "****************************\n",
      "2016-11-18 15:32:10.059642  Azimuth =  217 Elevation =  47\n",
      "Setting the telescope to Az = 217 and El = 47\n",
      "Corrected azimuth =  303\n",
      "************\n",
      "Before write\n",
      "************\n",
      "11\t204\t1\t214\t3020\t470\troll: 0    pitch: 0    angle full: 162\n",
      "11\t204\t1\t214\t3020\t470\troll: 0    pitch: 0    angle full: 162\n",
      "11\t204\t1\t214\t3020\t470\troll: 0    pitch: 0    angle full: 162\n",
      "11\t204\t1\t214\t3020\t470\troll: 0    pitch: 0    angle full: 162\n",
      "11\t204\t1\t214\t3020\t470\troll: 0    pitch: 0    angle full: 162\n",
      "11\t204\t1\t214\t3020\t470\troll: 0    pitch: 0    angle full: 162\n",
      "***********\n",
      "After write\n",
      "***********\n",
      "11\t214\t1\t214\t3030\t470\troll: 0    pitch: 0    angle full: 168\n",
      "11\t214\t1\t214\t3030\t470\troll: 0    pitch: 0    angle full: 168\n",
      "11\t214\t1\t214\t3030\t470\troll: 0    pitch: 0    angle full: 168\n",
      "11\t214\t1\t214\t3030\t470\troll: 0    pitch: 0    angle full: 168\n",
      "11\t214\t1\t214\t3030\t470\troll: 0    pitch: 0    angle full: 168\n",
      "11\t214\t1\t214\t3030\t470\troll: 0    pitch: 0    angle full: 168\n",
      " \n",
      "****************************\n",
      "New coordinates from script:\n",
      "****************************\n",
      "2016-11-18 15:32:50.349867  Azimuth =  217 Elevation =  47\n",
      "Setting the telescope to Az = 217 and El = 47\n",
      "Corrected azimuth =  303\n",
      "************\n",
      "Before write\n",
      "************\n",
      "11\t214\t1\t214\t3030\t470\troll: 0    pitch: 0    angle full: 175\n",
      "11\t214\t1\t214\t3030\t470\troll: 0    pitch: 0    angle full: 175\n",
      "11\t214\t1\t214\t3030\t470\troll: 0    pitch: 0    angle full: 175\n",
      "11\t214\t1\t214\t3030\t470\troll: 0    pitch: 0    angle full: 175\n",
      "11\t214\t1\t214\t3030\t470\troll: 0    pitch: 0    angle full: 175\n",
      "11\t214\t1\t214\t3030\t470\troll: 0    pitch: 0    angle full: 175\n",
      "***********\n",
      "After write\n",
      "***********\n",
      "11\t214\t1\t214\t3030\t470\troll: 0    pitch: 0    angle full: 176\n",
      "11\t214\t1\t214\t3030\t470\troll: 0    pitch: 0    angle full: 176\n",
      "11\t214\t1\t214\t3030\t470\troll: 0    pitch: 0    angle full: 176\n",
      "11\t214\t1\t214\t3030\t470\troll: 0    pitch: 0    angle full: 176\n",
      "11\t214\t1\t214\t3030\t470\troll: 0    pitch: 0    angle full: 176\n",
      "11\t214\t1\t214\t3030\t470\troll: 0    pitch: 0    angle full: 176\n",
      " \n"
     ]
    }
   ],
   "source": [
    "obj = SkyCoord(266.41, -29.01, unit=\"deg\")\n",
    "ecci = EarthLocation(lat=4.71*u.deg, lon=-72.07*u.deg, height=2600*u.m)\n",
    "utcoffset = 5*u.hour  # Bogota time\n",
    "\n",
    "for i in range(15):\n",
    "    print \"****************************\"\n",
    "    print \"New coordinates from script:\"\n",
    "    print \"****************************\"\n",
    "    time = Time.now()\n",
    "    objaltaz = obj.transform_to(AltAz(obstime=time,location=ecci))  \n",
    "    azimuth=int(np.around(objaltaz.az.degree,0))\n",
    "    elevation=int(np.around(objaltaz.alt.degree,0))\n",
    "    filtel=(np.around((el*180/np.pi),0).astype(int)==elevation)\n",
    "    print time - utcoffset,\" Azimuth = \",azimuth, \"Elevation = \", elevation\n",
    "    if (elevation > 0):\n",
    "        if not(lowerang[filtel] < azimuth < upperang[filtel]):\n",
    "            print \"Desired Az must be between %i and %i\" %(lowerang[filtel][0],upperang[filtel][0])\n",
    "            print \"Az is currently set to %i\" % azimuth\n",
    "            print \"Stopping the telescope now. Waiting for new coordinates from the astropy block.\"\n",
    "            azimuth = 361\n",
    "            elevation = 91\n",
    "            commwrap(ser,azimuth,elevation)\n",
    "            ## communicate this to the arduino\n",
    "        else:\n",
    "            print \"Setting the telescope to Az = %i and El = %i\" %(azimuth, elevation)\n",
    "            print \"Corrected azimuth = % i\" % (np.around(azimuth-az_corr(eloff,elevation),0))\n",
    "            commwrap(ser,int(np.around(azimuth-az_corr(eloff,elevation),0)),elevation)\n",
    "            ## communicate corrected azimuth to the arduino\n",
    "        print  \" \"\n",
    "    else:\n",
    "        print \"Desired El must be greater than zero\"\n",
    "        print \"El is currently set to %i\" % elevation\n",
    "        print \"Stopping the telescope now. Waiting for new coordinates from the astropy block.\"\n",
    "        azimuth = 361\n",
    "        elevation = 91\n",
    "        commarduino(ser,azimuth,elevation)\n",
    "        ## communicate this to the arduino\n",
    "    sleep(30) # this should be at least an order of magnitude higher than the arduino loop delay"
   ]
  },
  {
   "cell_type": "code",
   "execution_count": null,
   "metadata": {
    "collapsed": true
   },
   "outputs": [],
   "source": []
  },
  {
   "cell_type": "code",
   "execution_count": 31,
   "metadata": {
    "collapsed": false
   },
   "outputs": [],
   "source": [
    "ser.close()"
   ]
  },
  {
   "cell_type": "code",
   "execution_count": null,
   "metadata": {
    "collapsed": true
   },
   "outputs": [],
   "source": []
  },
  {
   "cell_type": "code",
   "execution_count": null,
   "metadata": {
    "collapsed": true
   },
   "outputs": [],
   "source": []
  },
  {
   "cell_type": "code",
   "execution_count": 28,
   "metadata": {
    "collapsed": false
   },
   "outputs": [
    {
     "name": "stdout",
     "output_type": "stream",
     "text": [
      "2016-11-17 19:00:00.000  Object altitude = 7.5 deg  Object azimuth = 239.9 deg\n",
      "2016-11-17 19:15:00.000  Object altitude = 4.3 deg  Object azimuth = 240.4 deg\n",
      "2016-11-17 19:30:00.000  Object altitude = 1.0 deg  Object azimuth = 240.8 deg\n",
      "2016-11-17 19:45:00.000  Object altitude = -2.3 deg  Object azimuth = 241.1 deg\n",
      "2016-11-17 20:00:00.000  Object altitude = -5.6 deg  Object azimuth = 241.3 deg\n",
      "2016-11-17 20:15:00.000  Object altitude = -8.9 deg  Object azimuth = 241.3 deg\n",
      "2016-11-17 20:30:00.000  Object altitude = -12.1 deg  Object azimuth = 241.3 deg\n",
      "2016-11-17 20:45:00.000  Object altitude = -15.4 deg  Object azimuth = 241.2 deg\n",
      "2016-11-17 21:00:00.000  Object altitude = -18.7 deg  Object azimuth = 240.9 deg\n",
      "2016-11-17 21:15:00.000  Object altitude = -22.0 deg  Object azimuth = 240.6 deg\n",
      "2016-11-17 21:30:00.000  Object altitude = -25.2 deg  Object azimuth = 240.1 deg\n",
      "2016-11-17 21:45:00.000  Object altitude = -28.5 deg  Object azimuth = 239.4 deg\n",
      "2016-11-17 22:00:00.000  Object altitude = -31.7 deg  Object azimuth = 238.6 deg\n",
      "2016-11-17 22:15:00.000  Object altitude = -34.9 deg  Object azimuth = 237.6 deg\n",
      "2016-11-17 22:30:00.000  Object altitude = -38.0 deg  Object azimuth = 236.4 deg\n",
      "2016-11-17 22:45:00.000  Object altitude = -41.1 deg  Object azimuth = 235.0 deg\n",
      "2016-11-17 23:00:00.000  Object altitude = -44.1 deg  Object azimuth = 233.3 deg\n",
      "2016-11-17 23:15:00.000  Object altitude = -47.1 deg  Object azimuth = 231.2 deg\n",
      "2016-11-17 23:30:00.000  Object altitude = -50.0 deg  Object azimuth = 228.8 deg\n",
      "2016-11-17 23:45:00.000  Object altitude = -52.7 deg  Object azimuth = 225.9 deg\n",
      "2016-11-18 00:00:00.000  Object altitude = -55.4 deg  Object azimuth = 222.5 deg\n",
      "2016-11-18 00:15:00.000  Object altitude = -57.8 deg  Object azimuth = 218.5 deg\n",
      "2016-11-18 00:30:00.000  Object altitude = -60.0 deg  Object azimuth = 213.8 deg\n",
      "2016-11-18 00:45:00.000  Object altitude = -61.9 deg  Object azimuth = 208.3 deg\n",
      "2016-11-18 01:00:00.000  Object altitude = -63.5 deg  Object azimuth = 202.1 deg\n",
      "2016-11-18 01:15:00.000  Object altitude = -64.7 deg  Object azimuth = 195.0 deg\n",
      "2016-11-18 01:30:00.000  Object altitude = -65.5 deg  Object azimuth = 187.4 deg\n",
      "2016-11-18 01:45:00.000  Object altitude = -65.7 deg  Object azimuth = 179.5 deg\n",
      "2016-11-18 02:00:00.000  Object altitude = -65.4 deg  Object azimuth = 171.5 deg\n",
      "2016-11-18 02:15:00.000  Object altitude = -64.6 deg  Object azimuth = 164.0 deg\n",
      "2016-11-18 02:30:00.000  Object altitude = -63.4 deg  Object azimuth = 157.1 deg\n",
      "2016-11-18 02:45:00.000  Object altitude = -61.7 deg  Object azimuth = 150.9 deg\n",
      "2016-11-18 03:00:00.000  Object altitude = -59.7 deg  Object azimuth = 145.5 deg\n",
      "2016-11-18 03:15:00.000  Object altitude = -57.5 deg  Object azimuth = 140.9 deg\n",
      "2016-11-18 03:30:00.000  Object altitude = -55.0 deg  Object azimuth = 137.0 deg\n",
      "2016-11-18 03:45:00.000  Object altitude = -52.4 deg  Object azimuth = 133.7 deg\n",
      "2016-11-18 04:00:00.000  Object altitude = -49.6 deg  Object azimuth = 130.8 deg\n",
      "2016-11-18 04:15:00.000  Object altitude = -46.7 deg  Object azimuth = 128.5 deg\n",
      "2016-11-18 04:30:00.000  Object altitude = -43.7 deg  Object azimuth = 126.5 deg\n",
      "2016-11-18 04:45:00.000  Object altitude = -40.7 deg  Object azimuth = 124.8 deg\n",
      "2016-11-18 05:00:00.000  Object altitude = -37.6 deg  Object azimuth = 123.4 deg\n",
      "2016-11-18 05:15:00.000  Object altitude = -34.4 deg  Object azimuth = 122.2 deg\n",
      "2016-11-18 05:30:00.000  Object altitude = -31.3 deg  Object azimuth = 121.3 deg\n",
      "2016-11-18 05:45:00.000  Object altitude = -28.0 deg  Object azimuth = 120.5 deg\n",
      "2016-11-18 06:00:00.000  Object altitude = -24.8 deg  Object azimuth = 119.9 deg\n",
      "2016-11-18 06:15:00.000  Object altitude = -21.5 deg  Object azimuth = 119.4 deg\n",
      "2016-11-18 06:30:00.000  Object altitude = -18.3 deg  Object azimuth = 119.0 deg\n",
      "2016-11-18 06:45:00.000  Object altitude = -15.0 deg  Object azimuth = 118.8 deg\n",
      "2016-11-18 07:00:00.000  Object altitude = -11.7 deg  Object azimuth = 118.7 deg\n",
      "2016-11-18 07:15:00.000  Object altitude = -8.4 deg  Object azimuth = 118.7 deg\n",
      "2016-11-18 07:30:00.000  Object altitude = -5.1 deg  Object azimuth = 118.8 deg\n",
      "2016-11-18 07:45:00.000  Object altitude = -1.8 deg  Object azimuth = 119.0 deg\n",
      "2016-11-18 08:00:00.000  Object altitude = 1.4 deg  Object azimuth = 119.3 deg\n",
      "2016-11-18 08:15:00.000  Object altitude = 4.7 deg  Object azimuth = 119.7 deg\n",
      "2016-11-18 08:30:00.000  Object altitude = 7.9 deg  Object azimuth = 120.2 deg\n",
      "2016-11-18 08:45:00.000  Object altitude = 11.2 deg  Object azimuth = 120.8 deg\n",
      "2016-11-18 09:00:00.000  Object altitude = 14.4 deg  Object azimuth = 121.6 deg\n",
      "2016-11-18 09:15:00.000  Object altitude = 17.6 deg  Object azimuth = 122.4 deg\n",
      "2016-11-18 09:30:00.000  Object altitude = 20.7 deg  Object azimuth = 123.5 deg\n",
      "2016-11-18 09:45:00.000  Object altitude = 23.8 deg  Object azimuth = 124.6 deg\n",
      "2016-11-18 10:00:00.000  Object altitude = 26.9 deg  Object azimuth = 126.0 deg\n",
      "2016-11-18 10:15:00.000  Object altitude = 29.9 deg  Object azimuth = 127.5 deg\n",
      "2016-11-18 10:30:00.000  Object altitude = 32.8 deg  Object azimuth = 129.2 deg\n",
      "2016-11-18 10:45:00.000  Object altitude = 35.7 deg  Object azimuth = 131.2 deg\n",
      "2016-11-18 11:00:00.000  Object altitude = 38.4 deg  Object azimuth = 133.4 deg\n",
      "2016-11-18 11:15:00.000  Object altitude = 41.1 deg  Object azimuth = 135.9 deg\n",
      "2016-11-18 11:30:00.000  Object altitude = 43.7 deg  Object azimuth = 138.7 deg\n",
      "2016-11-18 11:45:00.000  Object altitude = 46.1 deg  Object azimuth = 141.9 deg\n",
      "2016-11-18 12:00:00.000  Object altitude = 48.3 deg  Object azimuth = 145.4 deg\n",
      "2016-11-18 12:15:00.000  Object altitude = 50.3 deg  Object azimuth = 149.4 deg\n",
      "2016-11-18 12:30:00.000  Object altitude = 52.1 deg  Object azimuth = 153.8 deg\n",
      "2016-11-18 12:45:00.000  Object altitude = 53.6 deg  Object azimuth = 158.7 deg\n",
      "2016-11-18 13:00:00.000  Object altitude = 54.8 deg  Object azimuth = 163.9 deg\n",
      "2016-11-18 13:15:00.000  Object altitude = 55.7 deg  Object azimuth = 169.5 deg\n",
      "2016-11-18 13:30:00.000  Object altitude = 56.2 deg  Object azimuth = 175.3 deg\n",
      "2016-11-18 13:45:00.000  Object altitude = 56.3 deg  Object azimuth = 181.2 deg\n",
      "2016-11-18 14:00:00.000  Object altitude = 56.0 deg  Object azimuth = 187.1 deg\n",
      "2016-11-18 14:15:00.000  Object altitude = 55.4 deg  Object azimuth = 192.8 deg\n",
      "2016-11-18 14:30:00.000  Object altitude = 54.4 deg  Object azimuth = 198.2 deg\n",
      "2016-11-18 14:45:00.000  Object altitude = 53.0 deg  Object azimuth = 203.3 deg\n",
      "2016-11-18 15:00:00.000  Object altitude = 51.4 deg  Object azimuth = 208.0 deg\n",
      "2016-11-18 15:15:00.000  Object altitude = 49.5 deg  Object azimuth = 212.2 deg\n",
      "2016-11-18 15:30:00.000  Object altitude = 47.4 deg  Object azimuth = 216.0 deg\n",
      "2016-11-18 15:45:00.000  Object altitude = 45.1 deg  Object azimuth = 219.4 deg\n",
      "2016-11-18 16:00:00.000  Object altitude = 42.7 deg  Object azimuth = 222.5 deg\n",
      "2016-11-18 16:15:00.000  Object altitude = 40.1 deg  Object azimuth = 225.2 deg\n",
      "2016-11-18 16:30:00.000  Object altitude = 37.4 deg  Object azimuth = 227.5 deg\n",
      "2016-11-18 16:45:00.000  Object altitude = 34.5 deg  Object azimuth = 229.6 deg\n",
      "2016-11-18 17:00:00.000  Object altitude = 31.6 deg  Object azimuth = 231.5 deg\n",
      "2016-11-18 17:15:00.000  Object altitude = 28.7 deg  Object azimuth = 233.1 deg\n",
      "2016-11-18 17:30:00.000  Object altitude = 25.7 deg  Object azimuth = 234.6 deg\n",
      "2016-11-18 17:45:00.000  Object altitude = 22.6 deg  Object azimuth = 235.9 deg\n",
      "2016-11-18 18:00:00.000  Object altitude = 19.5 deg  Object azimuth = 237.0 deg\n",
      "2016-11-18 18:15:00.000  Object altitude = 16.3 deg  Object azimuth = 237.9 deg\n",
      "2016-11-18 18:30:00.000  Object altitude = 13.1 deg  Object azimuth = 238.7 deg\n",
      "2016-11-18 18:45:00.000  Object altitude = 9.9 deg  Object azimuth = 239.4 deg\n"
     ]
    }
   ],
   "source": [
    "# Observation plan\n",
    "for i in range(24):\n",
    "    ecci = EarthLocation(lat=4.71*u.deg, lon=-72.07*u.deg, height=2600*u.m)\n",
    "    for j in ['00','15','30','45']:\n",
    "        time = Time('%s %i:%s:00' % (str(time.now())[:10],i,j)) \n",
    "        objaltaz = obj.transform_to(AltAz(obstime=time,location=ecci))  \n",
    "        print time - utcoffset, \" Object altitude = {0.alt:.1f}\".format(objaltaz),\" Object azimuth = {0.az:.1f}\".format(objaltaz) "
   ]
  },
  {
   "cell_type": "code",
   "execution_count": 29,
   "metadata": {
    "collapsed": false
   },
   "outputs": [
    {
     "data": {
      "image/png": "[encoded data removed]",
      "text/plain": [
       "<matplotlib.figure.Figure at 0x7f3f4a727950>"
      ]
     },
     "metadata": {},
     "output_type": "display_data"
    }
   ],
   "source": [
    "import matplotlib.pyplot as plt\n",
    "%matplotlib inline\n",
    "azlimlo=360\n",
    "azlimup=180\n",
    "el=np.linspace(0,90-eloff,90-eloff+1)*np.pi/180\n",
    "omega=np.arcsin(np.sin(el)/np.cos(eloff*np.pi/180))\n",
    "azcor=-np.arctan2(np.cos(omega),np.sin(omega)*np.sin(eloff*np.pi/180))*180/np.pi\n",
    "lowerang=azlimlo-azcor-360\n",
    "upperang=azlimup-azcor\n",
    "plt.plot(el*180/np.pi,lowerang)\n",
    "plt.plot(el*180/np.pi,upperang)\n",
    "plt.fill_between(el*180/np.pi,lowerang, upperang, color='grey', alpha='0.5')\n",
    "plt.ylim(0,360)\n",
    "plt.xlabel(\"Elevation\")\n",
    "plt.ylabel(\"Azimuth\")\n",
    "filtel=el*180/np.pi==elevation"
   ]
  },
  {
   "cell_type": "code",
   "execution_count": null,
   "metadata": {
    "collapsed": true
   },
   "outputs": [],
   "source": []
  },
  {
   "cell_type": "code",
   "execution_count": null,
   "metadata": {
    "collapsed": true
   },
   "outputs": [],
   "source": []
  },
  {
   "cell_type": "code",
   "execution_count": null,
   "metadata": {
    "collapsed": true
   },
   "outputs": [],
   "source": []
  },
  {
   "cell_type": "code",
   "execution_count": null,
   "metadata": {
    "collapsed": true
   },
   "outputs": [],
   "source": []
  },
  {
   "cell_type": "code",
   "execution_count": null,
   "metadata": {
    "collapsed": true
   },
   "outputs": [],
   "source": []
  },
  {
   "cell_type": "code",
   "execution_count": null,
   "metadata": {
    "collapsed": true
   },
   "outputs": [],
   "source": []
  }
 ],
 "metadata": {
  "kernelspec": {
   "display_name": "Python 2",
   "language": "python",
   "name": "python2"
  },
  "language_info": {
   "codemirror_mode": {
    "name": "ipython",
    "version": 2
   },
   "file_extension": ".py",
   "mimetype": "text/x-python",
   "name": "python",
   "nbconvert_exporter": "python",
   "pygments_lexer": "ipython2",
   "version": "2.7.10"
  }
 },
 "nbformat": 4,
 "nbformat_minor": 0
}
